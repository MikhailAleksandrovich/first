{
 "cells": [
  {
   "cell_type": "markdown",
   "id": "4d5a0acf",
   "metadata": {},
   "source": [
    "# Классификация музыки по жанрам"
   ]
  },
  {
   "cell_type": "markdown",
   "id": "f817a22a",
   "metadata": {},
   "source": [
    "## Описание задачи\n",
    "Вы сотрудник Отдела Data Science популярного музыкального стримингового сервиса \"МиФаСоль\". Сервис расширяет работу с новыми артистами и музыкантами, в связи с чем возникла задача -- правильно классифицировать новые музыкальные треки, чтобы улучшить работу рекомендательной системы. Ваши коллеги из отдела работы со звуком подготовили датасет, в котором собраны некоторые характеристики музыкальных произведений и их жанры. Ваша задача -- разработать модель, позволяющую классифицировать музыкальные произведения по жанрам.\n",
    "\n",
    "В ходе работы в пройдете все основные этапы полноценного исследования:\n",
    "загрузка и ознакомление с данными,\n",
    "предварительная обработка,\n",
    "полноценный разведочный анализ,\n",
    "разработка новых синтетических признаков,\n",
    "проверка на мультиколлинеарность,\n",
    "отбор финального набора обучающих признаков,\n",
    "выбор и обучение моделей,\n",
    "итоговая оценка качества предсказания лучшей модели,\n",
    "анализ важности ее признаков.\n",
    "\n",
    "Дополнительное задание\n",
    "Для тех, кому этого покажется мало у нас есть дополнительное задание — реализовать решение с использованием технологии pipeline (из библиотеки sklearn, imblearn).\n",
    "Подготовка отчета по исследованию. Если останется время можно подготовить полноценный отчет по исследовательской работе Дата Сайнтиста. Примеры хороших отчетов можно посмотреть на сайте Stanford University - отчеты по финальным проектам направления Machine Learning - https://cs229.stanford.edu/projects2014.html. Из примеров понятно наполнение отчета по исследованию, а так же, что главное - понятна сама структура отчета. В реальной работе именно такой формат отчета обычно завершает исследование.\n",
    "Мастерская будет проходить в виде соревнования на платформе Kaggle. Длительность — 2 недели. Для участников — это отличная возможность не только выполнить интересный проект, который можно будет добавить в свое портфолио, но и познакомиться с одной из самых популярных соревновательных Интернет-площадок, на которой можно исследовать и создавать модели, взаимодействовать с другими специалистами по данным, организовывать и участвовать в конкурсах, посвященных анализу данных и машинному обучению."
   ]
  },
  {
   "cell_type": "markdown",
   "id": "03e80452",
   "metadata": {},
   "source": [
    "### 1 Импорт Библиотек"
   ]
  },
  {
   "cell_type": "code",
   "execution_count": 1,
   "id": "876f1b76",
   "metadata": {},
   "outputs": [],
   "source": [
    "import numpy as np\n",
    "import pandas as pd\n",
    "pd.set_option('display.max_columns', 100)\n",
    "pd.set_option('display.max_rows', 100)\n",
    "import matplotlib.pyplot as plt\n",
    "%matplotlib inline\n",
    "import seaborn as sns\n",
    "import warnings\n",
    "import itertools\n",
    "warnings.filterwarnings('ignore')\n",
    "import math\n",
    "from numpy.random import RandomState\n",
    "state = 322"
   ]
  },
  {
   "cell_type": "code",
   "execution_count": 2,
   "id": "a11b9aaf",
   "metadata": {},
   "outputs": [],
   "source": [
    "from sklearn.model_selection import cross_val_score, train_test_split\n",
    "from sklearn.preprocessing import StandardScaler, LabelEncoder, OneHotEncoder\n",
    "from sklearn.linear_model import LogisticRegression, RidgeClassifier\n",
    "from sklearn.ensemble import RandomForestClassifier\n",
    "from sklearn.metrics import accuracy_score, confusion_matrix, f1_score, roc_curve, roc_auc_score, precision_score, recall_score, mean_squared_error\n",
    "\n"
   ]
  },
  {
   "cell_type": "code",
   "execution_count": null,
   "id": "2e8c9a89",
   "metadata": {},
   "outputs": [],
   "source": []
  },
  {
   "cell_type": "markdown",
   "id": "1b770689",
   "metadata": {},
   "source": [
    "### 2 Загрузка данных, первичное ознакомление"
   ]
  },
  {
   "cell_type": "code",
   "execution_count": 3,
   "id": "8b7787c9",
   "metadata": {},
   "outputs": [],
   "source": [
    "df_train = pd.read_csv('C:\\data/kaggle_music_genre_train.csv')\n",
    "df_test = pd.read_csv('C:\\data/kaggle_music_genre_test.csv')"
   ]
  },
  {
   "cell_type": "code",
   "execution_count": 4,
   "id": "8d02d49e",
   "metadata": {},
   "outputs": [
    {
     "name": "stdout",
     "output_type": "stream",
     "text": [
      "<class 'pandas.core.frame.DataFrame'>\n",
      "RangeIndex: 20394 entries, 0 to 20393\n",
      "Data columns (total 16 columns):\n",
      " #   Column            Non-Null Count  Dtype  \n",
      "---  ------            --------------  -----  \n",
      " 0   instance_id       20394 non-null  float64\n",
      " 1   track_name        20394 non-null  object \n",
      " 2   acousticness      20394 non-null  float64\n",
      " 3   danceability      20394 non-null  float64\n",
      " 4   duration_ms       20394 non-null  float64\n",
      " 5   energy            20394 non-null  float64\n",
      " 6   instrumentalness  20394 non-null  float64\n",
      " 7   key               19659 non-null  object \n",
      " 8   liveness          20394 non-null  float64\n",
      " 9   loudness          20394 non-null  float64\n",
      " 10  mode              19888 non-null  object \n",
      " 11  speechiness       20394 non-null  float64\n",
      " 12  tempo             19952 non-null  float64\n",
      " 13  obtained_date     20394 non-null  object \n",
      " 14  valence           20394 non-null  float64\n",
      " 15  music_genre       20394 non-null  object \n",
      "dtypes: float64(11), object(5)\n",
      "memory usage: 2.5+ MB\n"
     ]
    }
   ],
   "source": [
    "df_train.info()"
   ]
  },
  {
   "cell_type": "code",
   "execution_count": 5,
   "id": "9f5b6557",
   "metadata": {},
   "outputs": [
    {
     "data": {
      "text/html": [
       "<div>\n",
       "<style scoped>\n",
       "    .dataframe tbody tr th:only-of-type {\n",
       "        vertical-align: middle;\n",
       "    }\n",
       "\n",
       "    .dataframe tbody tr th {\n",
       "        vertical-align: top;\n",
       "    }\n",
       "\n",
       "    .dataframe thead th {\n",
       "        text-align: right;\n",
       "    }\n",
       "</style>\n",
       "<table border=\"1\" class=\"dataframe\">\n",
       "  <thead>\n",
       "    <tr style=\"text-align: right;\">\n",
       "      <th></th>\n",
       "      <th>0</th>\n",
       "      <th>1</th>\n",
       "      <th>2</th>\n",
       "      <th>3</th>\n",
       "      <th>4</th>\n",
       "    </tr>\n",
       "  </thead>\n",
       "  <tbody>\n",
       "    <tr>\n",
       "      <th>instance_id</th>\n",
       "      <td>25143.0</td>\n",
       "      <td>26091.0</td>\n",
       "      <td>87888.0</td>\n",
       "      <td>77021.0</td>\n",
       "      <td>20852.0</td>\n",
       "    </tr>\n",
       "    <tr>\n",
       "      <th>track_name</th>\n",
       "      <td>Highwayman</td>\n",
       "      <td>Toes Across The Floor</td>\n",
       "      <td>First Person on Earth</td>\n",
       "      <td>No Te Veo - Digital Single</td>\n",
       "      <td>Chasing Shadows</td>\n",
       "    </tr>\n",
       "    <tr>\n",
       "      <th>acousticness</th>\n",
       "      <td>0.48</td>\n",
       "      <td>0.243</td>\n",
       "      <td>0.228</td>\n",
       "      <td>0.0558</td>\n",
       "      <td>0.227</td>\n",
       "    </tr>\n",
       "    <tr>\n",
       "      <th>danceability</th>\n",
       "      <td>0.67</td>\n",
       "      <td>0.452</td>\n",
       "      <td>0.454</td>\n",
       "      <td>0.847</td>\n",
       "      <td>0.742</td>\n",
       "    </tr>\n",
       "    <tr>\n",
       "      <th>duration_ms</th>\n",
       "      <td>182653.0</td>\n",
       "      <td>187133.0</td>\n",
       "      <td>173448.0</td>\n",
       "      <td>255987.0</td>\n",
       "      <td>195333.0</td>\n",
       "    </tr>\n",
       "    <tr>\n",
       "      <th>energy</th>\n",
       "      <td>0.351</td>\n",
       "      <td>0.67</td>\n",
       "      <td>0.804</td>\n",
       "      <td>0.873</td>\n",
       "      <td>0.575</td>\n",
       "    </tr>\n",
       "    <tr>\n",
       "      <th>instrumentalness</th>\n",
       "      <td>0.0176</td>\n",
       "      <td>0.000051</td>\n",
       "      <td>0.0</td>\n",
       "      <td>0.000003</td>\n",
       "      <td>0.000002</td>\n",
       "    </tr>\n",
       "    <tr>\n",
       "      <th>key</th>\n",
       "      <td>D</td>\n",
       "      <td>A</td>\n",
       "      <td>E</td>\n",
       "      <td>G#</td>\n",
       "      <td>C</td>\n",
       "    </tr>\n",
       "    <tr>\n",
       "      <th>liveness</th>\n",
       "      <td>0.115</td>\n",
       "      <td>0.108</td>\n",
       "      <td>0.181</td>\n",
       "      <td>0.325</td>\n",
       "      <td>0.176</td>\n",
       "    </tr>\n",
       "    <tr>\n",
       "      <th>loudness</th>\n",
       "      <td>-16.842</td>\n",
       "      <td>-8.392</td>\n",
       "      <td>-5.225</td>\n",
       "      <td>-4.805</td>\n",
       "      <td>-5.55</td>\n",
       "    </tr>\n",
       "    <tr>\n",
       "      <th>mode</th>\n",
       "      <td>Major</td>\n",
       "      <td>Minor</td>\n",
       "      <td>Minor</td>\n",
       "      <td>Minor</td>\n",
       "      <td>Major</td>\n",
       "    </tr>\n",
       "    <tr>\n",
       "      <th>speechiness</th>\n",
       "      <td>0.0463</td>\n",
       "      <td>0.0352</td>\n",
       "      <td>0.371</td>\n",
       "      <td>0.0804</td>\n",
       "      <td>0.0487</td>\n",
       "    </tr>\n",
       "    <tr>\n",
       "      <th>tempo</th>\n",
       "      <td>101.384</td>\n",
       "      <td>113.071</td>\n",
       "      <td>80.98</td>\n",
       "      <td>116.007</td>\n",
       "      <td>76.494</td>\n",
       "    </tr>\n",
       "    <tr>\n",
       "      <th>obtained_date</th>\n",
       "      <td>4-Apr</td>\n",
       "      <td>4-Apr</td>\n",
       "      <td>4-Apr</td>\n",
       "      <td>4-Apr</td>\n",
       "      <td>4-Apr</td>\n",
       "    </tr>\n",
       "    <tr>\n",
       "      <th>valence</th>\n",
       "      <td>0.45</td>\n",
       "      <td>0.539</td>\n",
       "      <td>0.344</td>\n",
       "      <td>0.966</td>\n",
       "      <td>0.583</td>\n",
       "    </tr>\n",
       "    <tr>\n",
       "      <th>music_genre</th>\n",
       "      <td>Country</td>\n",
       "      <td>Rock</td>\n",
       "      <td>Alternative</td>\n",
       "      <td>Hip-Hop</td>\n",
       "      <td>Alternative</td>\n",
       "    </tr>\n",
       "  </tbody>\n",
       "</table>\n",
       "</div>"
      ],
      "text/plain": [
       "                           0                      1                      2  \\\n",
       "instance_id          25143.0                26091.0                87888.0   \n",
       "track_name        Highwayman  Toes Across The Floor  First Person on Earth   \n",
       "acousticness            0.48                  0.243                  0.228   \n",
       "danceability            0.67                  0.452                  0.454   \n",
       "duration_ms         182653.0               187133.0               173448.0   \n",
       "energy                 0.351                   0.67                  0.804   \n",
       "instrumentalness      0.0176               0.000051                    0.0   \n",
       "key                        D                      A                      E   \n",
       "liveness               0.115                  0.108                  0.181   \n",
       "loudness             -16.842                 -8.392                 -5.225   \n",
       "mode                   Major                  Minor                  Minor   \n",
       "speechiness           0.0463                 0.0352                  0.371   \n",
       "tempo                101.384                113.071                  80.98   \n",
       "obtained_date          4-Apr                  4-Apr                  4-Apr   \n",
       "valence                 0.45                  0.539                  0.344   \n",
       "music_genre          Country                   Rock            Alternative   \n",
       "\n",
       "                                           3                4  \n",
       "instance_id                          77021.0          20852.0  \n",
       "track_name        No Te Veo - Digital Single  Chasing Shadows  \n",
       "acousticness                          0.0558            0.227  \n",
       "danceability                           0.847            0.742  \n",
       "duration_ms                         255987.0         195333.0  \n",
       "energy                                 0.873            0.575  \n",
       "instrumentalness                    0.000003         0.000002  \n",
       "key                                       G#                C  \n",
       "liveness                               0.325            0.176  \n",
       "loudness                              -4.805            -5.55  \n",
       "mode                                   Minor            Major  \n",
       "speechiness                           0.0804           0.0487  \n",
       "tempo                                116.007           76.494  \n",
       "obtained_date                          4-Apr            4-Apr  \n",
       "valence                                0.966            0.583  \n",
       "music_genre                          Hip-Hop      Alternative  "
      ]
     },
     "execution_count": 5,
     "metadata": {},
     "output_type": "execute_result"
    }
   ],
   "source": [
    "df_train.head().T"
   ]
  },
  {
   "cell_type": "code",
   "execution_count": 6,
   "id": "d0e57bc3",
   "metadata": {},
   "outputs": [
    {
     "data": {
      "text/plain": [
       "music_genre\n",
       "Alternative    2601\n",
       "Anime          1901\n",
       "Blues          2858\n",
       "Classical      1373\n",
       "Country        2120\n",
       "Electronic     2564\n",
       "Hip-Hop        1145\n",
       "Jazz           1239\n",
       "Rap            2428\n",
       "Rock           2165\n",
       "Name: music_genre, dtype: int64"
      ]
     },
     "execution_count": 6,
     "metadata": {},
     "output_type": "execute_result"
    }
   ],
   "source": [
    "genre_counts = df_train.groupby('music_genre')['music_genre'].count()\n",
    "genre_counts"
   ]
  },
  {
   "cell_type": "code",
   "execution_count": 7,
   "id": "97b34f34",
   "metadata": {},
   "outputs": [
    {
     "data": {
      "text/plain": [
       "<Axes: xlabel='music_genre', ylabel='count'>"
      ]
     },
     "execution_count": 7,
     "metadata": {},
     "output_type": "execute_result"
    },
    {
     "data": {
      "image/png": "[encoded data removed]",
      "text/plain": [
       "<Figure size 640x480 with 1 Axes>"
      ]
     },
     "metadata": {},
     "output_type": "display_data"
    }
   ],
   "source": [
    "sns.set_style('whitegrid')\n",
    "sns.countplot(x='music_genre',data=df_train,palette='RdBu_r')"
   ]
  },
  {
   "cell_type": "code",
   "execution_count": 8,
   "id": "0dd4d460",
   "metadata": {},
   "outputs": [],
   "source": [
    "df_list = [df_train, df_test]"
   ]
  },
  {
   "cell_type": "code",
   "execution_count": 9,
   "id": "044613ab",
   "metadata": {},
   "outputs": [
    {
     "name": "stdout",
     "output_type": "stream",
     "text": [
      "instance_id           0\n",
      "track_name            0\n",
      "acousticness          0\n",
      "danceability          0\n",
      "duration_ms           0\n",
      "energy                0\n",
      "instrumentalness      0\n",
      "key                 735\n",
      "liveness              0\n",
      "loudness              0\n",
      "mode                506\n",
      "speechiness           0\n",
      "tempo               442\n",
      "obtained_date         0\n",
      "valence               0\n",
      "music_genre           0\n",
      "dtype: int64\n",
      "----------\n",
      "instance_id           0\n",
      "track_name            0\n",
      "acousticness          0\n",
      "danceability          0\n",
      "duration_ms           0\n",
      "energy                0\n",
      "instrumentalness      0\n",
      "key                 158\n",
      "liveness              0\n",
      "loudness              0\n",
      "mode                149\n",
      "speechiness           0\n",
      "tempo               121\n",
      "obtained_date         0\n",
      "valence               0\n",
      "dtype: int64\n",
      "----------\n"
     ]
    }
   ],
   "source": [
    "for i in df_list:\n",
    "    print(i.isna().sum())\n",
    "    print('----------')"
   ]
  },
  {
   "cell_type": "code",
   "execution_count": 10,
   "id": "0fc2dc3b",
   "metadata": {},
   "outputs": [
    {
     "name": "stdout",
     "output_type": "stream",
     "text": [
      "0\n",
      "----------\n",
      "0\n",
      "----------\n"
     ]
    }
   ],
   "source": [
    "for i in df_list:\n",
    "    print(i.duplicated().sum())\n",
    "    print('----------')"
   ]
  },
  {
   "cell_type": "code",
   "execution_count": 11,
   "id": "e2afa6d4",
   "metadata": {},
   "outputs": [
    {
     "name": "stdout",
     "output_type": "stream",
     "text": [
      "instance_id\n",
      "[20011. 20016. 20017. ... 91749. 91757. 91758.]\n",
      "---------------------------\n",
      "track_name\n",
      "['\"99\"'\n",
      " '\"Christen, ätzet diesen Tag\", BWV 63: I. Choral \"Christen, ätzet diesen Tag\"'\n",
      " '\"Concerto Funebre\" con hautbois sordini e salmoè, violino principale e viole da gamba (Si Bem. Maggiore, RV 579): II. Allegro poco poco'\n",
      " ... '鶏と蛇と豚' '黒い弾丸' '黒い雫']\n",
      "---------------------------\n",
      "acousticness\n",
      "[0.00e+00 1.02e-06 1.27e-06 ... 9.94e-01 9.95e-01 9.96e-01]\n",
      "---------------------------\n",
      "danceability\n",
      "[0.06   0.0602 0.0606 0.0607 0.061  0.0614 0.0616 0.0618 0.0623 0.0624\n",
      " 0.0628 0.063  0.0631 0.0637 0.0639 0.0644 0.0645 0.0646 0.065  0.0651\n",
      " 0.0656 0.066  0.0662 0.0663 0.0666 0.0667 0.0676 0.0677 0.0686 0.0691\n",
      " 0.0695 0.0699 0.0701 0.0708 0.0715 0.0716 0.0728 0.074  0.0744 0.0745\n",
      " 0.0747 0.0753 0.0764 0.0765 0.0769 0.0775 0.0783 0.0786 0.0787 0.0789\n",
      " 0.079  0.0792 0.08   0.0809 0.0816 0.0818 0.0819 0.0822 0.0828 0.0829\n",
      " 0.0831 0.0832 0.0833 0.0836 0.0843 0.0845 0.085  0.0859 0.0863 0.0865\n",
      " 0.0866 0.0869 0.0873 0.0877 0.0882 0.0888 0.0896 0.0906 0.093  0.0932\n",
      " 0.0937 0.0942 0.0949 0.0951 0.0957 0.0964 0.0967 0.0973 0.0977 0.0984\n",
      " 0.0987 0.101  0.102  0.103  0.104  0.105  0.106  0.107  0.108  0.109\n",
      " 0.11   0.111  0.113  0.114  0.115  0.116  0.117  0.118  0.119  0.12\n",
      " 0.121  0.122  0.123  0.124  0.125  0.126  0.127  0.128  0.129  0.13\n",
      " 0.131  0.132  0.133  0.134  0.135  0.136  0.137  0.138  0.139  0.14\n",
      " 0.141  0.142  0.143  0.144  0.145  0.146  0.147  0.148  0.149  0.15\n",
      " 0.151  0.152  0.153  0.154  0.155  0.156  0.157  0.158  0.159  0.16\n",
      " 0.161  0.162  0.163  0.164  0.165  0.166  0.167  0.168  0.169  0.17\n",
      " 0.171  0.172  0.173  0.174  0.175  0.176  0.177  0.178  0.179  0.18\n",
      " 0.181  0.182  0.183  0.184  0.185  0.186  0.187  0.188  0.189  0.19\n",
      " 0.191  0.192  0.193  0.194  0.195  0.196  0.197  0.198  0.2    0.201\n",
      " 0.202  0.203  0.204  0.205  0.206  0.207  0.208  0.209  0.21   0.211\n",
      " 0.212  0.213  0.214  0.215  0.216  0.217  0.218  0.219  0.22   0.221\n",
      " 0.222  0.223  0.224  0.225  0.226  0.227  0.228  0.229  0.23   0.231\n",
      " 0.232  0.233  0.234  0.235  0.236  0.237  0.238  0.239  0.24   0.241\n",
      " 0.242  0.243  0.244  0.245  0.246  0.247  0.248  0.249  0.25   0.251\n",
      " 0.252  0.253  0.254  0.255  0.256  0.257  0.258  0.259  0.26   0.261\n",
      " 0.262  0.263  0.264  0.265  0.266  0.267  0.268  0.269  0.27   0.271\n",
      " 0.272  0.273  0.274  0.275  0.276  0.277  0.278  0.279  0.28   0.281\n",
      " 0.282  0.283  0.284  0.285  0.286  0.287  0.288  0.289  0.29   0.291\n",
      " 0.292  0.293  0.294  0.295  0.296  0.297  0.298  0.299  0.3    0.301\n",
      " 0.302  0.303  0.304  0.305  0.306  0.307  0.308  0.309  0.31   0.311\n",
      " 0.312  0.313  0.314  0.315  0.316  0.317  0.318  0.319  0.32   0.321\n",
      " 0.322  0.323  0.324  0.325  0.326  0.327  0.328  0.329  0.33   0.331\n",
      " 0.332  0.333  0.334  0.335  0.336  0.337  0.338  0.339  0.34   0.341\n",
      " 0.342  0.343  0.344  0.345  0.346  0.347  0.348  0.349  0.35   0.351\n",
      " 0.352  0.353  0.354  0.355  0.356  0.357  0.358  0.359  0.36   0.361\n",
      " 0.362  0.363  0.364  0.365  0.366  0.367  0.368  0.369  0.37   0.371\n",
      " 0.372  0.373  0.374  0.375  0.376  0.377  0.378  0.379  0.38   0.381\n",
      " 0.382  0.383  0.384  0.385  0.386  0.387  0.388  0.389  0.39   0.391\n",
      " 0.392  0.393  0.394  0.395  0.396  0.397  0.398  0.399  0.4    0.401\n",
      " 0.402  0.403  0.404  0.405  0.406  0.407  0.408  0.409  0.41   0.411\n",
      " 0.412  0.413  0.414  0.415  0.416  0.417  0.418  0.419  0.42   0.421\n",
      " 0.422  0.423  0.424  0.425  0.426  0.427  0.428  0.429  0.43   0.431\n",
      " 0.432  0.433  0.434  0.435  0.436  0.437  0.438  0.439  0.44   0.441\n",
      " 0.442  0.443  0.444  0.445  0.446  0.447  0.448  0.449  0.45   0.451\n",
      " 0.452  0.453  0.454  0.455  0.456  0.457  0.458  0.459  0.46   0.461\n",
      " 0.462  0.463  0.464  0.465  0.466  0.467  0.468  0.469  0.47   0.471\n",
      " 0.472  0.473  0.474  0.475  0.476  0.477  0.478  0.479  0.48   0.481\n",
      " 0.482  0.483  0.484  0.485  0.486  0.487  0.488  0.489  0.49   0.491\n",
      " 0.492  0.493  0.494  0.495  0.496  0.497  0.498  0.499  0.5    0.501\n",
      " 0.502  0.503  0.504  0.505  0.506  0.507  0.508  0.509  0.51   0.511\n",
      " 0.512  0.513  0.514  0.515  0.516  0.517  0.518  0.519  0.52   0.521\n",
      " 0.522  0.523  0.524  0.525  0.526  0.527  0.528  0.529  0.53   0.531\n",
      " 0.532  0.533  0.534  0.535  0.536  0.537  0.538  0.539  0.54   0.541\n",
      " 0.542  0.543  0.544  0.545  0.546  0.547  0.548  0.549  0.55   0.551\n",
      " 0.552  0.553  0.554  0.555  0.556  0.557  0.558  0.559  0.56   0.561\n",
      " 0.562  0.563  0.564  0.565  0.566  0.567  0.568  0.569  0.57   0.571\n",
      " 0.572  0.573  0.574  0.575  0.576  0.577  0.578  0.579  0.58   0.581\n",
      " 0.582  0.583  0.584  0.585  0.586  0.587  0.588  0.589  0.59   0.591\n",
      " 0.592  0.593  0.594  0.595  0.596  0.597  0.598  0.599  0.6    0.601\n",
      " 0.602  0.603  0.604  0.605  0.606  0.607  0.608  0.609  0.61   0.611\n",
      " 0.612  0.613  0.614  0.615  0.616  0.617  0.618  0.619  0.62   0.621\n",
      " 0.622  0.623  0.624  0.625  0.626  0.627  0.628  0.629  0.63   0.631\n",
      " 0.632  0.633  0.634  0.635  0.636  0.637  0.638  0.639  0.64   0.641\n",
      " 0.642  0.643  0.644  0.645  0.646  0.647  0.648  0.649  0.65   0.651\n",
      " 0.652  0.653  0.654  0.655  0.656  0.657  0.658  0.659  0.66   0.661\n",
      " 0.662  0.663  0.664  0.665  0.666  0.667  0.668  0.669  0.67   0.671\n",
      " 0.672  0.673  0.674  0.675  0.676  0.677  0.678  0.679  0.68   0.681\n",
      " 0.682  0.683  0.684  0.685  0.686  0.687  0.688  0.689  0.69   0.691\n",
      " 0.692  0.693  0.694  0.695  0.696  0.697  0.698  0.699  0.7    0.701\n",
      " 0.702  0.703  0.704  0.705  0.706  0.707  0.708  0.709  0.71   0.711\n",
      " 0.712  0.713  0.714  0.715  0.716  0.717  0.718  0.719  0.72   0.721\n",
      " 0.722  0.723  0.724  0.725  0.726  0.727  0.728  0.729  0.73   0.731\n",
      " 0.732  0.733  0.734  0.735  0.736  0.737  0.738  0.739  0.74   0.741\n",
      " 0.742  0.743  0.744  0.745  0.746  0.747  0.748  0.749  0.75   0.751\n",
      " 0.752  0.753  0.754  0.755  0.756  0.757  0.758  0.759  0.76   0.761\n",
      " 0.762  0.763  0.764  0.765  0.766  0.767  0.768  0.769  0.77   0.771\n",
      " 0.772  0.773  0.774  0.775  0.776  0.777  0.778  0.779  0.78   0.781\n",
      " 0.782  0.783  0.784  0.785  0.786  0.787  0.788  0.789  0.79   0.791\n",
      " 0.792  0.793  0.794  0.795  0.796  0.797  0.798  0.799  0.8    0.801\n",
      " 0.802  0.803  0.804  0.805  0.806  0.807  0.808  0.809  0.81   0.811\n",
      " 0.812  0.813  0.814  0.815  0.816  0.817  0.818  0.819  0.82   0.821\n",
      " 0.822  0.823  0.824  0.825  0.826  0.827  0.828  0.829  0.83   0.831\n",
      " 0.832  0.833  0.834  0.835  0.836  0.837  0.838  0.839  0.84   0.841\n",
      " 0.842  0.843  0.844  0.845  0.846  0.847  0.848  0.849  0.85   0.851\n",
      " 0.852  0.853  0.854  0.855  0.856  0.857  0.858  0.859  0.86   0.861\n",
      " 0.862  0.863  0.864  0.865  0.866  0.867  0.868  0.869  0.87   0.871\n",
      " 0.872  0.873  0.874  0.875  0.876  0.877  0.878  0.879  0.88   0.881\n",
      " 0.882  0.883  0.884  0.885  0.886  0.887  0.888  0.889  0.89   0.891\n",
      " 0.892  0.893  0.894  0.895  0.896  0.897  0.898  0.899  0.9    0.901\n",
      " 0.902  0.903  0.904  0.905  0.906  0.907  0.908  0.909  0.91   0.911\n",
      " 0.912  0.913  0.914  0.915  0.916  0.917  0.918  0.919  0.92   0.921\n",
      " 0.922  0.923  0.924  0.925  0.926  0.927  0.928  0.929  0.93   0.931\n",
      " 0.932  0.933  0.934  0.935  0.936  0.937  0.938  0.939  0.94   0.942\n",
      " 0.943  0.944  0.946  0.947  0.948  0.949  0.95   0.951  0.953  0.955\n",
      " 0.956  0.957  0.958  0.959  0.96   0.964  0.969  0.972  0.975  0.978 ]\n",
      "---------------------------\n",
      "duration_ms\n",
      "[-1.000000e+00  1.550900e+04  1.631600e+04 ...  2.764934e+06  4.276000e+06\n",
      "  4.497994e+06]\n",
      "---------------------------\n",
      "energy\n",
      "[0.00101 0.00104 0.0011  ... 0.997   0.998   0.999  ]\n",
      "---------------------------\n",
      "instrumentalness\n",
      "[0.00e+00 1.00e-06 1.01e-06 ... 9.87e-01 9.88e-01 9.96e-01]\n",
      "---------------------------\n",
      "key\n",
      "['A' 'A#' 'B' 'C' 'C#' 'D' 'D#' 'E' 'F' 'F#' 'G' 'G#' nan]\n",
      "---------------------------\n",
      "liveness\n",
      "[0.0136 0.0169 0.0191 ... 0.992  0.996  1.    ]\n",
      "---------------------------\n",
      "loudness\n",
      "[-44.406 -44.108 -43.407 ...   1.275   1.585   3.744]\n",
      "---------------------------\n",
      "mode\n",
      "['Major' 'Minor' nan]\n",
      "---------------------------\n",
      "speechiness\n",
      "[0.0223 0.0224 0.0225 ... 0.922  0.932  0.942 ]\n",
      "---------------------------\n",
      "tempo\n",
      "[ 34.765  34.856  46.591 ... 219.331 220.041     nan]\n",
      "---------------------------\n",
      "obtained_date\n",
      "['1-Apr' '3-Apr' '4-Apr' '5-Apr']\n",
      "---------------------------\n",
      "valence\n",
      "[0.     0.0193 0.0234 ... 0.985  0.986  0.992 ]\n",
      "---------------------------\n",
      "instance_id\n",
      "[20012 20031 20040 ... 91677 91686 91709]\n",
      "---------------------------\n",
      "track_name\n",
      "['#NAME?' '#Sádico' \"'39 - Remastered 2011\" ...\n",
      " '風に乗れ 進研ゼミCM ORIGINAL COVER INST.Ver' '風の伝説' '骸Attack!!']\n",
      "---------------------------\n",
      "acousticness\n",
      "[2.36e-06 3.23e-06 4.68e-06 ... 9.94e-01 9.95e-01 9.96e-01]\n",
      "---------------------------\n",
      "danceability\n",
      "[0.0596 0.0607 0.0618 0.0642 0.0652 0.0665 0.0677 0.069  0.0696 0.0707\n",
      " 0.0742 0.0754 0.0772 0.0773 0.0783 0.0798 0.0811 0.0839 0.0845 0.0846\n",
      " 0.0856 0.086  0.0873 0.0906 0.092  0.0935 0.0936 0.0969 0.1    0.104\n",
      " 0.106  0.107  0.108  0.109  0.112  0.113  0.115  0.119  0.122  0.124\n",
      " 0.126  0.127  0.129  0.13   0.133  0.141  0.142  0.143  0.144  0.145\n",
      " 0.146  0.147  0.148  0.15   0.151  0.153  0.154  0.155  0.156  0.157\n",
      " 0.158  0.159  0.161  0.162  0.163  0.166  0.167  0.168  0.169  0.17\n",
      " 0.171  0.173  0.174  0.175  0.176  0.177  0.179  0.18   0.182  0.183\n",
      " 0.184  0.185  0.186  0.187  0.189  0.19   0.192  0.194  0.196  0.197\n",
      " 0.198  0.199  0.201  0.202  0.203  0.204  0.205  0.206  0.207  0.208\n",
      " 0.209  0.21   0.212  0.213  0.214  0.215  0.216  0.217  0.218  0.22\n",
      " 0.221  0.222  0.223  0.224  0.225  0.226  0.227  0.228  0.229  0.23\n",
      " 0.231  0.233  0.234  0.235  0.236  0.237  0.239  0.24   0.241  0.242\n",
      " 0.243  0.244  0.245  0.246  0.247  0.248  0.249  0.25   0.251  0.252\n",
      " 0.253  0.255  0.256  0.258  0.259  0.26   0.261  0.262  0.263  0.264\n",
      " 0.265  0.266  0.267  0.268  0.269  0.27   0.271  0.272  0.273  0.274\n",
      " 0.275  0.276  0.277  0.278  0.279  0.28   0.281  0.282  0.283  0.284\n",
      " 0.285  0.286  0.288  0.289  0.29   0.291  0.292  0.293  0.294  0.295\n",
      " 0.296  0.297  0.298  0.299  0.3    0.301  0.302  0.303  0.304  0.305\n",
      " 0.306  0.307  0.308  0.309  0.31   0.311  0.312  0.313  0.314  0.315\n",
      " 0.316  0.317  0.318  0.319  0.32   0.321  0.322  0.323  0.324  0.325\n",
      " 0.326  0.327  0.328  0.329  0.33   0.331  0.332  0.333  0.334  0.335\n",
      " 0.336  0.337  0.338  0.339  0.34   0.341  0.342  0.343  0.344  0.345\n",
      " 0.346  0.348  0.349  0.35   0.351  0.352  0.353  0.354  0.355  0.356\n",
      " 0.357  0.358  0.359  0.36   0.361  0.362  0.363  0.364  0.365  0.366\n",
      " 0.367  0.368  0.369  0.37   0.371  0.372  0.373  0.374  0.375  0.376\n",
      " 0.377  0.378  0.379  0.38   0.381  0.382  0.383  0.384  0.385  0.386\n",
      " 0.388  0.389  0.39   0.391  0.392  0.393  0.394  0.395  0.396  0.397\n",
      " 0.398  0.399  0.4    0.401  0.402  0.403  0.404  0.405  0.406  0.407\n",
      " 0.408  0.409  0.41   0.411  0.412  0.413  0.414  0.415  0.416  0.417\n",
      " 0.418  0.419  0.42   0.421  0.422  0.423  0.424  0.425  0.426  0.427\n",
      " 0.428  0.429  0.43   0.431  0.432  0.433  0.434  0.435  0.436  0.437\n",
      " 0.438  0.439  0.44   0.441  0.442  0.443  0.444  0.445  0.446  0.447\n",
      " 0.448  0.449  0.45   0.451  0.452  0.453  0.454  0.455  0.456  0.457\n",
      " 0.458  0.459  0.46   0.461  0.462  0.463  0.464  0.465  0.466  0.467\n",
      " 0.468  0.469  0.47   0.471  0.472  0.473  0.474  0.475  0.476  0.477\n",
      " 0.478  0.479  0.48   0.481  0.482  0.483  0.484  0.485  0.486  0.487\n",
      " 0.488  0.489  0.49   0.491  0.492  0.493  0.494  0.495  0.496  0.497\n",
      " 0.498  0.499  0.5    0.501  0.502  0.503  0.504  0.505  0.506  0.507\n",
      " 0.508  0.509  0.51   0.511  0.512  0.513  0.514  0.515  0.516  0.517\n",
      " 0.518  0.519  0.52   0.521  0.522  0.523  0.524  0.525  0.526  0.527\n",
      " 0.528  0.529  0.53   0.531  0.532  0.533  0.534  0.535  0.536  0.537\n",
      " 0.538  0.539  0.54   0.541  0.542  0.543  0.544  0.545  0.546  0.547\n",
      " 0.548  0.549  0.55   0.551  0.552  0.553  0.554  0.555  0.556  0.557\n",
      " 0.558  0.559  0.56   0.561  0.562  0.563  0.564  0.565  0.566  0.567\n",
      " 0.568  0.569  0.57   0.571  0.572  0.573  0.574  0.575  0.576  0.577\n",
      " 0.578  0.579  0.58   0.581  0.582  0.583  0.584  0.585  0.586  0.587\n",
      " 0.588  0.589  0.59   0.591  0.592  0.593  0.594  0.595  0.596  0.597\n",
      " 0.598  0.599  0.6    0.601  0.602  0.603  0.604  0.605  0.606  0.607\n",
      " 0.608  0.609  0.61   0.611  0.612  0.613  0.614  0.615  0.616  0.617\n",
      " 0.618  0.619  0.62   0.621  0.622  0.623  0.624  0.625  0.626  0.627\n",
      " 0.628  0.629  0.63   0.631  0.632  0.633  0.634  0.635  0.636  0.637\n",
      " 0.638  0.639  0.64   0.641  0.642  0.643  0.644  0.645  0.646  0.647\n",
      " 0.648  0.649  0.65   0.651  0.652  0.653  0.654  0.655  0.656  0.657\n",
      " 0.658  0.659  0.66   0.661  0.662  0.663  0.664  0.665  0.666  0.667\n",
      " 0.668  0.669  0.67   0.671  0.672  0.673  0.674  0.675  0.676  0.677\n",
      " 0.678  0.679  0.68   0.681  0.682  0.683  0.684  0.685  0.686  0.687\n",
      " 0.688  0.689  0.69   0.691  0.692  0.693  0.694  0.695  0.696  0.697\n",
      " 0.698  0.699  0.7    0.701  0.702  0.703  0.704  0.705  0.706  0.707\n",
      " 0.708  0.709  0.71   0.711  0.712  0.713  0.714  0.715  0.716  0.717\n",
      " 0.718  0.719  0.72   0.721  0.722  0.723  0.724  0.725  0.726  0.727\n",
      " 0.728  0.729  0.73   0.731  0.732  0.733  0.734  0.735  0.736  0.737\n",
      " 0.738  0.739  0.74   0.741  0.742  0.743  0.744  0.745  0.746  0.747\n",
      " 0.748  0.749  0.75   0.751  0.752  0.753  0.754  0.755  0.756  0.757\n",
      " 0.758  0.759  0.76   0.761  0.762  0.763  0.764  0.765  0.766  0.767\n",
      " 0.768  0.769  0.77   0.771  0.772  0.773  0.774  0.775  0.776  0.777\n",
      " 0.778  0.779  0.78   0.781  0.782  0.783  0.784  0.785  0.786  0.787\n",
      " 0.788  0.789  0.79   0.791  0.792  0.793  0.794  0.795  0.796  0.797\n",
      " 0.798  0.799  0.8    0.801  0.802  0.803  0.804  0.805  0.807  0.808\n",
      " 0.809  0.81   0.811  0.812  0.813  0.814  0.815  0.816  0.817  0.818\n",
      " 0.819  0.82   0.821  0.822  0.823  0.824  0.825  0.826  0.827  0.828\n",
      " 0.829  0.83   0.831  0.832  0.833  0.834  0.835  0.836  0.837  0.838\n",
      " 0.839  0.84   0.841  0.842  0.843  0.844  0.845  0.846  0.847  0.848\n",
      " 0.849  0.85   0.851  0.852  0.853  0.854  0.855  0.856  0.857  0.858\n",
      " 0.859  0.86   0.861  0.862  0.863  0.864  0.865  0.866  0.867  0.868\n",
      " 0.869  0.87   0.871  0.872  0.873  0.874  0.875  0.876  0.877  0.878\n",
      " 0.879  0.88   0.881  0.882  0.883  0.884  0.885  0.886  0.887  0.888\n",
      " 0.889  0.89   0.892  0.893  0.894  0.895  0.897  0.899  0.9    0.903\n",
      " 0.905  0.906  0.907  0.908  0.909  0.91   0.912  0.914  0.916  0.917\n",
      " 0.918  0.919  0.92   0.921  0.922  0.923  0.924  0.925  0.931  0.932\n",
      " 0.935  0.936  0.939  0.94   0.941  0.942  0.943  0.944  0.949  0.951\n",
      " 0.955  0.956  0.957  0.959  0.961  0.962  0.964  0.967  0.971  0.977 ]\n",
      "---------------------------\n",
      "duration_ms\n",
      "[-1.000000e+00  2.275000e+04  2.894700e+04 ...  1.322267e+06  1.326560e+06\n",
      "  1.360027e+06]\n",
      "---------------------------\n",
      "energy\n",
      "[0.00154 0.002   0.00209 ... 0.997   0.998   0.999  ]\n",
      "---------------------------\n",
      "instrumentalness\n",
      "[0.00e+00 1.00e-06 1.01e-06 ... 9.92e-01 9.93e-01 9.94e-01]\n",
      "---------------------------\n",
      "key\n",
      "['A' 'A#' 'B' 'C' 'C#' 'D' 'D#' 'E' 'F' 'F#' 'G' 'G#' nan]\n",
      "---------------------------\n",
      "liveness\n",
      "[0.0204 0.0223 0.0226 ... 0.983  0.984  0.99  ]\n",
      "---------------------------\n",
      "loudness\n",
      "[-46.122 -42.32  -42.117 ...   0.598   1.893   1.949]\n",
      "---------------------------\n",
      "mode\n",
      "['Major' 'Minor' nan]\n",
      "---------------------------\n",
      "speechiness\n",
      "[0.0226 0.0228 0.0235 ... 0.792  0.889  0.918 ]\n",
      "---------------------------\n",
      "tempo\n",
      "[ 37.114  38.137  40.171 ... 213.788 216.029     nan]\n",
      "---------------------------\n",
      "obtained_date\n",
      "['1-Apr' '3-Apr' '4-Apr' '5-Apr']\n",
      "---------------------------\n",
      "valence\n",
      "[0.0205 0.0246 0.0262 ... 0.976  0.978  0.982 ]\n",
      "---------------------------\n"
     ]
    }
   ],
   "source": [
    "cols = df_test.columns\n",
    "for n in df_list:\n",
    "    for i in cols:\n",
    "        print(i)\n",
    "        print(n[i].sort_values().unique())\n",
    "        print('---------------------------')"
   ]
  },
  {
   "cell_type": "code",
   "execution_count": 12,
   "id": "4a581405",
   "metadata": {},
   "outputs": [
    {
     "data": {
      "text/plain": [
       "25143.0    1\n",
       "46033.0    1\n",
       "71277.0    1\n",
       "90024.0    1\n",
       "74036.0    1\n",
       "          ..\n",
       "53482.0    1\n",
       "47150.0    1\n",
       "37720.0    1\n",
       "83023.0    1\n",
       "86375.0    1\n",
       "Name: instance_id, Length: 20394, dtype: int64"
      ]
     },
     "metadata": {},
     "output_type": "display_data"
    },
    {
     "data": {
      "text/plain": [
       "Home                          11\n",
       "Diamonds                       7\n",
       "Summertime                     7\n",
       "Gravity                        6\n",
       "Dreams                         6\n",
       "                              ..\n",
       "Bloody F8 (feat. Aimer)        1\n",
       "Willy Wonka (feat. Offset)     1\n",
       "Window Pain - Outro            1\n",
       "Greatness                      1\n",
       "Trouble (feat. MC Spyder)      1\n",
       "Name: track_name, Length: 18643, dtype: int64"
      ]
     },
     "metadata": {},
     "output_type": "display_data"
    },
    {
     "data": {
      "text/plain": [
       "0.995000    76\n",
       "0.994000    76\n",
       "0.991000    57\n",
       "0.992000    55\n",
       "0.993000    53\n",
       "            ..\n",
       "0.008700     1\n",
       "0.000005     1\n",
       "0.000464     1\n",
       "0.009730     1\n",
       "0.000008     1\n",
       "Name: acousticness, Length: 3616, dtype: int64"
      ]
     },
     "metadata": {},
     "output_type": "display_data"
    },
    {
     "data": {
      "text/plain": [
       "0.5910    64\n",
       "0.5290    64\n",
       "0.5540    61\n",
       "0.6480    61\n",
       "0.6280    60\n",
       "          ..\n",
       "0.0747     1\n",
       "0.0951     1\n",
       "0.0699     1\n",
       "0.0984     1\n",
       "0.0651     1\n",
       "Name: danceability, Length: 950, dtype: int64"
      ]
     },
     "metadata": {},
     "output_type": "display_data"
    },
    {
     "data": {
      "text/plain": [
       "-1.0         2009\n",
       " 240000.0      16\n",
       " 192000.0      16\n",
       " 180000.0      13\n",
       " 182400.0      10\n",
       "             ... \n",
       " 198286.0       1\n",
       " 142213.0       1\n",
       " 368083.0       1\n",
       " 223237.0       1\n",
       " 271885.0       1\n",
       "Name: duration_ms, Length: 13649, dtype: int64"
      ]
     },
     "metadata": {},
     "output_type": "display_data"
    },
    {
     "data": {
      "text/plain": [
       "0.84800    47\n",
       "0.87300    47\n",
       "0.85900    47\n",
       "0.71400    46\n",
       "0.90200    45\n",
       "           ..\n",
       "0.08790     1\n",
       "0.08810     1\n",
       "0.00618     1\n",
       "0.02220     1\n",
       "0.03950     1\n",
       "Name: energy, Length: 1521, dtype: int64"
      ]
     },
     "metadata": {},
     "output_type": "display_data"
    },
    {
     "data": {
      "text/plain": [
       "0.000000    5978\n",
       "0.905000      27\n",
       "0.892000      26\n",
       "0.898000      25\n",
       "0.912000      25\n",
       "            ... \n",
       "0.000008       1\n",
       "0.000097       1\n",
       "0.000062       1\n",
       "0.000604       1\n",
       "0.089700       1\n",
       "Name: instrumentalness, Length: 4360, dtype: int64"
      ]
     },
     "metadata": {},
     "output_type": "display_data"
    },
    {
     "data": {
      "text/plain": [
       "G     2304\n",
       "C     2149\n",
       "C#    2125\n",
       "D     2110\n",
       "A     2013\n",
       "F     1616\n",
       "B     1522\n",
       "E     1516\n",
       "G#    1268\n",
       "A#    1224\n",
       "F#    1206\n",
       "D#     606\n",
       "Name: key, dtype: int64"
      ]
     },
     "metadata": {},
     "output_type": "display_data"
    },
    {
     "data": {
      "text/plain": [
       "0.1100    246\n",
       "0.1080    245\n",
       "0.1110    230\n",
       "0.1070    215\n",
       "0.1090    202\n",
       "         ... \n",
       "0.0356      1\n",
       "0.0321      1\n",
       "0.5790      1\n",
       "0.0444      1\n",
       "0.6170      1\n",
       "Name: liveness, Length: 1521, dtype: int64"
      ]
     },
     "metadata": {},
     "output_type": "display_data"
    },
    {
     "data": {
      "text/plain": [
       "-5.016     11\n",
       "-5.013     11\n",
       "-4.159     10\n",
       "-5.202     10\n",
       "-5.587      9\n",
       "           ..\n",
       "-8.873      1\n",
       "-14.444     1\n",
       "-25.808     1\n",
       "-18.009     1\n",
       "-1.615      1\n",
       "Name: loudness, Length: 10844, dtype: int64"
      ]
     },
     "metadata": {},
     "output_type": "display_data"
    },
    {
     "data": {
      "text/plain": [
       "Major    12828\n",
       "Minor     7060\n",
       "Name: mode, dtype: int64"
      ]
     },
     "metadata": {},
     "output_type": "display_data"
    },
    {
     "data": {
      "text/plain": [
       "0.0332    77\n",
       "0.0302    68\n",
       "0.0297    68\n",
       "0.0337    68\n",
       "0.0352    65\n",
       "          ..\n",
       "0.0225     1\n",
       "0.5410     1\n",
       "0.7600     1\n",
       "0.5960     1\n",
       "0.5810     1\n",
       "Name: speechiness, Length: 1243, dtype: int64"
      ]
     },
     "metadata": {},
     "output_type": "display_data"
    },
    {
     "data": {
      "text/plain": [
       "140.011    9\n",
       "120.000    9\n",
       "119.998    9\n",
       "130.016    8\n",
       "100.003    8\n",
       "          ..\n",
       "71.607     1\n",
       "169.832    1\n",
       "100.311    1\n",
       "94.913     1\n",
       "146.803    1\n",
       "Name: tempo, Length: 15762, dtype: int64"
      ]
     },
     "metadata": {},
     "output_type": "display_data"
    },
    {
     "data": {
      "text/plain": [
       "4-Apr    18435\n",
       "3-Apr     1524\n",
       "5-Apr      290\n",
       "1-Apr      145\n",
       "Name: obtained_date, dtype: int64"
      ]
     },
     "metadata": {},
     "output_type": "display_data"
    },
    {
     "data": {
      "text/plain": [
       "0.3380    49\n",
       "0.3240    43\n",
       "0.5440    40\n",
       "0.3720    40\n",
       "0.9610    40\n",
       "          ..\n",
       "0.0589     1\n",
       "0.0406     1\n",
       "0.0452     1\n",
       "0.0803     1\n",
       "0.0770     1\n",
       "Name: valence, Length: 1454, dtype: int64"
      ]
     },
     "metadata": {},
     "output_type": "display_data"
    }
   ],
   "source": [
    "for i in cols:\n",
    "    display(df_train[i].value_counts())"
   ]
  },
  {
   "cell_type": "code",
   "execution_count": 13,
   "id": "0b113afc",
   "metadata": {},
   "outputs": [
    {
     "data": {
      "text/plain": [
       "48564    1\n",
       "33413    1\n",
       "64071    1\n",
       "22701    1\n",
       "90067    1\n",
       "        ..\n",
       "48775    1\n",
       "79879    1\n",
       "31747    1\n",
       "39845    1\n",
       "47986    1\n",
       "Name: instance_id, Length: 5099, dtype: int64"
      ]
     },
     "metadata": {},
     "output_type": "display_data"
    },
    {
     "data": {
      "text/plain": [
       "Hurricane                                                         3\n",
       "Maybe                                                             3\n",
       "No Love                                                           3\n",
       "Better Days                                                       3\n",
       "Black Holes (Solid Ground)                                        3\n",
       "                                                                 ..\n",
       "Say Goodbye                                                       1\n",
       "Crossfire                                                         1\n",
       "What's The Frequency, Kenneth?                                    1\n",
       "Watch The Tapes                                                   1\n",
       "A Night In Tunisia - Remastered 1998 / Rudy Van Gelder Edition    1\n",
       "Name: track_name, Length: 4981, dtype: int64"
      ]
     },
     "metadata": {},
     "output_type": "display_data"
    },
    {
     "data": {
      "text/plain": [
       "0.995000    27\n",
       "0.991000    15\n",
       "0.994000    15\n",
       "0.989000    15\n",
       "0.992000    13\n",
       "            ..\n",
       "0.098400     1\n",
       "0.000009     1\n",
       "0.003410     1\n",
       "0.005950     1\n",
       "0.003590     1\n",
       "Name: acousticness, Length: 2275, dtype: int64"
      ]
     },
     "metadata": {},
     "output_type": "display_data"
    },
    {
     "data": {
      "text/plain": [
       "0.529    21\n",
       "0.549    21\n",
       "0.576    21\n",
       "0.589    20\n",
       "0.610    20\n",
       "         ..\n",
       "0.957     1\n",
       "0.967     1\n",
       "0.939     1\n",
       "0.317     1\n",
       "0.284     1\n",
       "Name: danceability, Length: 820, dtype: int64"
      ]
     },
     "metadata": {},
     "output_type": "display_data"
    },
    {
     "data": {
      "text/plain": [
       "-1.0         509\n",
       " 162333.0      5\n",
       " 268800.0      4\n",
       " 216000.0      4\n",
       " 186000.0      4\n",
       "            ... \n",
       " 261560.0      1\n",
       " 211202.0      1\n",
       " 232133.0      1\n",
       " 238147.0      1\n",
       " 256800.0      1\n",
       "Name: duration_ms, Length: 4185, dtype: int64"
      ]
     },
     "metadata": {},
     "output_type": "display_data"
    },
    {
     "data": {
      "text/plain": [
       "0.8240    18\n",
       "0.8120    17\n",
       "0.9390    15\n",
       "0.8490    15\n",
       "0.9520    15\n",
       "          ..\n",
       "0.0115     1\n",
       "0.0795     1\n",
       "0.0301     1\n",
       "0.0741     1\n",
       "0.0326     1\n",
       "Name: energy, Length: 1080, dtype: int64"
      ]
     },
     "metadata": {},
     "output_type": "display_data"
    },
    {
     "data": {
      "text/plain": [
       "0.000000    1510\n",
       "0.862000       9\n",
       "0.923000       9\n",
       "0.916000       8\n",
       "0.887000       8\n",
       "            ... \n",
       "0.000838       1\n",
       "0.000001       1\n",
       "0.000002       1\n",
       "0.000060       1\n",
       "0.000097       1\n",
       "Name: instrumentalness, Length: 2254, dtype: int64"
      ]
     },
     "metadata": {},
     "output_type": "display_data"
    },
    {
     "data": {
      "text/plain": [
       "D     557\n",
       "C     530\n",
       "G     527\n",
       "C#    495\n",
       "A     465\n",
       "F     464\n",
       "B     397\n",
       "A#    354\n",
       "E     349\n",
       "F#    333\n",
       "G#    314\n",
       "D#    156\n",
       "Name: key, dtype: int64"
      ]
     },
     "metadata": {},
     "output_type": "display_data"
    },
    {
     "data": {
      "text/plain": [
       "0.1100    62\n",
       "0.1110    60\n",
       "0.1090    58\n",
       "0.1050    58\n",
       "0.1120    56\n",
       "          ..\n",
       "0.0653     1\n",
       "0.6840     1\n",
       "0.0455     1\n",
       "0.0291     1\n",
       "0.0768     1\n",
       "Name: liveness, Length: 1121, dtype: int64"
      ]
     },
     "metadata": {},
     "output_type": "display_data"
    },
    {
     "data": {
      "text/plain": [
       "-4.870     5\n",
       "-6.799     5\n",
       "-4.876     5\n",
       "-7.909     5\n",
       "-8.919     4\n",
       "          ..\n",
       "-10.572    1\n",
       "-6.326     1\n",
       "-5.756     1\n",
       "-3.728     1\n",
       "-10.127    1\n",
       "Name: loudness, Length: 4209, dtype: int64"
      ]
     },
     "metadata": {},
     "output_type": "display_data"
    },
    {
     "data": {
      "text/plain": [
       "Major    3177\n",
       "Minor    1773\n",
       "Name: mode, dtype: int64"
      ]
     },
     "metadata": {},
     "output_type": "display_data"
    },
    {
     "data": {
      "text/plain": [
       "0.0355    24\n",
       "0.0337    20\n",
       "0.0318    20\n",
       "0.0332    20\n",
       "0.0346    19\n",
       "          ..\n",
       "0.0894     1\n",
       "0.4370     1\n",
       "0.4400     1\n",
       "0.0934     1\n",
       "0.0786     1\n",
       "Name: speechiness, Length: 1056, dtype: int64"
      ]
     },
     "metadata": {},
     "output_type": "display_data"
    },
    {
     "data": {
      "text/plain": [
       "139.983    4\n",
       "119.960    4\n",
       "119.986    4\n",
       "95.007     4\n",
       "120.015    4\n",
       "          ..\n",
       "70.021     1\n",
       "96.682     1\n",
       "90.882     1\n",
       "146.076    1\n",
       "83.816     1\n",
       "Name: tempo, Length: 4635, dtype: int64"
      ]
     },
     "metadata": {},
     "output_type": "display_data"
    },
    {
     "data": {
      "text/plain": [
       "4-Apr    4597\n",
       "3-Apr     395\n",
       "5-Apr      65\n",
       "1-Apr      42\n",
       "Name: obtained_date, dtype: int64"
      ]
     },
     "metadata": {},
     "output_type": "display_data"
    },
    {
     "data": {
      "text/plain": [
       "0.6160    15\n",
       "0.4200    15\n",
       "0.3250    14\n",
       "0.5040    14\n",
       "0.2050    14\n",
       "          ..\n",
       "0.0861     1\n",
       "0.8790     1\n",
       "0.0889     1\n",
       "0.0290     1\n",
       "0.0917     1\n",
       "Name: valence, Length: 1093, dtype: int64"
      ]
     },
     "metadata": {},
     "output_type": "display_data"
    }
   ],
   "source": [
    "for i in cols:\n",
    "    display(df_test[i].value_counts())"
   ]
  },
  {
   "cell_type": "code",
   "execution_count": 14,
   "id": "118a9b1c",
   "metadata": {},
   "outputs": [
    {
     "data": {
      "text/html": [
       "<div>\n",
       "<style scoped>\n",
       "    .dataframe tbody tr th:only-of-type {\n",
       "        vertical-align: middle;\n",
       "    }\n",
       "\n",
       "    .dataframe tbody tr th {\n",
       "        vertical-align: top;\n",
       "    }\n",
       "\n",
       "    .dataframe thead th {\n",
       "        text-align: right;\n",
       "    }\n",
       "</style>\n",
       "<table border=\"1\" class=\"dataframe\">\n",
       "  <thead>\n",
       "    <tr style=\"text-align: right;\">\n",
       "      <th></th>\n",
       "      <th>acousticness</th>\n",
       "      <th>danceability</th>\n",
       "      <th>duration_ms</th>\n",
       "      <th>energy</th>\n",
       "      <th>instance_id</th>\n",
       "      <th>instrumentalness</th>\n",
       "      <th>liveness</th>\n",
       "      <th>loudness</th>\n",
       "      <th>speechiness</th>\n",
       "      <th>tempo</th>\n",
       "      <th>valence</th>\n",
       "    </tr>\n",
       "    <tr>\n",
       "      <th>music_genre</th>\n",
       "      <th></th>\n",
       "      <th></th>\n",
       "      <th></th>\n",
       "      <th></th>\n",
       "      <th></th>\n",
       "      <th></th>\n",
       "      <th></th>\n",
       "      <th></th>\n",
       "      <th></th>\n",
       "      <th></th>\n",
       "      <th></th>\n",
       "    </tr>\n",
       "  </thead>\n",
       "  <tbody>\n",
       "    <tr>\n",
       "      <th>Alternative</th>\n",
       "      <td>0.166985</td>\n",
       "      <td>0.546601</td>\n",
       "      <td>208896.554018</td>\n",
       "      <td>0.709921</td>\n",
       "      <td>55889.053825</td>\n",
       "      <td>0.062244</td>\n",
       "      <td>0.197854</td>\n",
       "      <td>-6.561434</td>\n",
       "      <td>0.089523</td>\n",
       "      <td>122.949432</td>\n",
       "      <td>0.449189</td>\n",
       "    </tr>\n",
       "    <tr>\n",
       "      <th>Anime</th>\n",
       "      <td>0.269231</td>\n",
       "      <td>0.470696</td>\n",
       "      <td>210078.527617</td>\n",
       "      <td>0.675377</td>\n",
       "      <td>55592.122041</td>\n",
       "      <td>0.269457</td>\n",
       "      <td>0.195141</td>\n",
       "      <td>-7.786926</td>\n",
       "      <td>0.064753</td>\n",
       "      <td>126.651741</td>\n",
       "      <td>0.435991</td>\n",
       "    </tr>\n",
       "    <tr>\n",
       "      <th>Blues</th>\n",
       "      <td>0.313793</td>\n",
       "      <td>0.526486</td>\n",
       "      <td>229354.083975</td>\n",
       "      <td>0.614087</td>\n",
       "      <td>55953.698740</td>\n",
       "      <td>0.091427</td>\n",
       "      <td>0.237001</td>\n",
       "      <td>-8.956438</td>\n",
       "      <td>0.061485</td>\n",
       "      <td>121.352838</td>\n",
       "      <td>0.577765</td>\n",
       "    </tr>\n",
       "    <tr>\n",
       "      <th>Classical</th>\n",
       "      <td>0.876544</td>\n",
       "      <td>0.303564</td>\n",
       "      <td>284025.983977</td>\n",
       "      <td>0.174565</td>\n",
       "      <td>56364.104151</td>\n",
       "      <td>0.596742</td>\n",
       "      <td>0.168227</td>\n",
       "      <td>-21.596170</td>\n",
       "      <td>0.052611</td>\n",
       "      <td>103.194000</td>\n",
       "      <td>0.208213</td>\n",
       "    </tr>\n",
       "    <tr>\n",
       "      <th>Country</th>\n",
       "      <td>0.275042</td>\n",
       "      <td>0.578900</td>\n",
       "      <td>195467.119811</td>\n",
       "      <td>0.636092</td>\n",
       "      <td>56271.025943</td>\n",
       "      <td>0.005260</td>\n",
       "      <td>0.184424</td>\n",
       "      <td>-7.325348</td>\n",
       "      <td>0.050289</td>\n",
       "      <td>123.220372</td>\n",
       "      <td>0.539644</td>\n",
       "    </tr>\n",
       "    <tr>\n",
       "      <th>Electronic</th>\n",
       "      <td>0.120547</td>\n",
       "      <td>0.618593</td>\n",
       "      <td>244518.579173</td>\n",
       "      <td>0.738151</td>\n",
       "      <td>56478.887285</td>\n",
       "      <td>0.348911</td>\n",
       "      <td>0.208292</td>\n",
       "      <td>-6.999542</td>\n",
       "      <td>0.099440</td>\n",
       "      <td>126.420326</td>\n",
       "      <td>0.388386</td>\n",
       "    </tr>\n",
       "    <tr>\n",
       "      <th>Hip-Hop</th>\n",
       "      <td>0.181786</td>\n",
       "      <td>0.718507</td>\n",
       "      <td>194388.653275</td>\n",
       "      <td>0.644582</td>\n",
       "      <td>56077.265502</td>\n",
       "      <td>0.010025</td>\n",
       "      <td>0.199918</td>\n",
       "      <td>-6.844419</td>\n",
       "      <td>0.208791</td>\n",
       "      <td>120.450162</td>\n",
       "      <td>0.473525</td>\n",
       "    </tr>\n",
       "    <tr>\n",
       "      <th>Jazz</th>\n",
       "      <td>0.500227</td>\n",
       "      <td>0.582156</td>\n",
       "      <td>243244.999193</td>\n",
       "      <td>0.471680</td>\n",
       "      <td>56268.140436</td>\n",
       "      <td>0.364615</td>\n",
       "      <td>0.172556</td>\n",
       "      <td>-11.333801</td>\n",
       "      <td>0.070873</td>\n",
       "      <td>111.487687</td>\n",
       "      <td>0.503369</td>\n",
       "    </tr>\n",
       "    <tr>\n",
       "      <th>Rap</th>\n",
       "      <td>0.168949</td>\n",
       "      <td>0.700364</td>\n",
       "      <td>195752.223641</td>\n",
       "      <td>0.652091</td>\n",
       "      <td>55367.535008</td>\n",
       "      <td>0.008143</td>\n",
       "      <td>0.196734</td>\n",
       "      <td>-6.649265</td>\n",
       "      <td>0.187334</td>\n",
       "      <td>119.844867</td>\n",
       "      <td>0.456786</td>\n",
       "    </tr>\n",
       "    <tr>\n",
       "      <th>Rock</th>\n",
       "      <td>0.197309</td>\n",
       "      <td>0.538236</td>\n",
       "      <td>215056.658199</td>\n",
       "      <td>0.683546</td>\n",
       "      <td>55757.728868</td>\n",
       "      <td>0.055100</td>\n",
       "      <td>0.189246</td>\n",
       "      <td>-7.303069</td>\n",
       "      <td>0.053498</td>\n",
       "      <td>122.419925</td>\n",
       "      <td>0.519957</td>\n",
       "    </tr>\n",
       "  </tbody>\n",
       "</table>\n",
       "</div>"
      ],
      "text/plain": [
       "             acousticness  danceability    duration_ms    energy  \\\n",
       "music_genre                                                        \n",
       "Alternative      0.166985      0.546601  208896.554018  0.709921   \n",
       "Anime            0.269231      0.470696  210078.527617  0.675377   \n",
       "Blues            0.313793      0.526486  229354.083975  0.614087   \n",
       "Classical        0.876544      0.303564  284025.983977  0.174565   \n",
       "Country          0.275042      0.578900  195467.119811  0.636092   \n",
       "Electronic       0.120547      0.618593  244518.579173  0.738151   \n",
       "Hip-Hop          0.181786      0.718507  194388.653275  0.644582   \n",
       "Jazz             0.500227      0.582156  243244.999193  0.471680   \n",
       "Rap              0.168949      0.700364  195752.223641  0.652091   \n",
       "Rock             0.197309      0.538236  215056.658199  0.683546   \n",
       "\n",
       "              instance_id  instrumentalness  liveness   loudness  speechiness  \\\n",
       "music_genre                                                                     \n",
       "Alternative  55889.053825          0.062244  0.197854  -6.561434     0.089523   \n",
       "Anime        55592.122041          0.269457  0.195141  -7.786926     0.064753   \n",
       "Blues        55953.698740          0.091427  0.237001  -8.956438     0.061485   \n",
       "Classical    56364.104151          0.596742  0.168227 -21.596170     0.052611   \n",
       "Country      56271.025943          0.005260  0.184424  -7.325348     0.050289   \n",
       "Electronic   56478.887285          0.348911  0.208292  -6.999542     0.099440   \n",
       "Hip-Hop      56077.265502          0.010025  0.199918  -6.844419     0.208791   \n",
       "Jazz         56268.140436          0.364615  0.172556 -11.333801     0.070873   \n",
       "Rap          55367.535008          0.008143  0.196734  -6.649265     0.187334   \n",
       "Rock         55757.728868          0.055100  0.189246  -7.303069     0.053498   \n",
       "\n",
       "                  tempo   valence  \n",
       "music_genre                        \n",
       "Alternative  122.949432  0.449189  \n",
       "Anime        126.651741  0.435991  \n",
       "Blues        121.352838  0.577765  \n",
       "Classical    103.194000  0.208213  \n",
       "Country      123.220372  0.539644  \n",
       "Electronic   126.420326  0.388386  \n",
       "Hip-Hop      120.450162  0.473525  \n",
       "Jazz         111.487687  0.503369  \n",
       "Rap          119.844867  0.456786  \n",
       "Rock         122.419925  0.519957  "
      ]
     },
     "execution_count": 14,
     "metadata": {},
     "output_type": "execute_result"
    }
   ],
   "source": [
    "df_train.pivot_table(values=cols, index=['music_genre'],aggfunc='mean')"
   ]
  },
  {
   "cell_type": "code",
   "execution_count": 15,
   "id": "8f462277",
   "metadata": {},
   "outputs": [
    {
     "data": {
      "text/html": [
       "<div>\n",
       "<style scoped>\n",
       "    .dataframe tbody tr th:only-of-type {\n",
       "        vertical-align: middle;\n",
       "    }\n",
       "\n",
       "    .dataframe tbody tr th {\n",
       "        vertical-align: top;\n",
       "    }\n",
       "\n",
       "    .dataframe thead th {\n",
       "        text-align: right;\n",
       "    }\n",
       "</style>\n",
       "<table border=\"1\" class=\"dataframe\">\n",
       "  <thead>\n",
       "    <tr style=\"text-align: right;\">\n",
       "      <th></th>\n",
       "      <th>key</th>\n",
       "    </tr>\n",
       "    <tr>\n",
       "      <th>music_genre</th>\n",
       "      <th></th>\n",
       "    </tr>\n",
       "  </thead>\n",
       "  <tbody>\n",
       "    <tr>\n",
       "      <th>Alternative</th>\n",
       "      <td>ECG#GGG#F#DCDAADGDC#GEAGAACD#DDF#CGEG#C#C#C#GG...</td>\n",
       "    </tr>\n",
       "    <tr>\n",
       "      <th>Anime</th>\n",
       "      <td>F#FFEDC#CGFFF#FC#BC#CC#C#G#ACDC#C#GC#ACGF#BADG...</td>\n",
       "    </tr>\n",
       "    <tr>\n",
       "      <th>Blues</th>\n",
       "      <td>DFFDGAG#DD#D#BA#BBDDFBAGCBCGECCD#DAG#EC#AGECEE...</td>\n",
       "    </tr>\n",
       "    <tr>\n",
       "      <th>Classical</th>\n",
       "      <td>DA#F#C#GFDC#DAGD#A#FGBEC#A#C#D#F#C#EAGC#EDBFA#...</td>\n",
       "    </tr>\n",
       "    <tr>\n",
       "      <th>Country</th>\n",
       "      <td>DAG#GC#F#FCCDF#GABD#DGFGG#C#FEBFC#G#AACA#DGGGC...</td>\n",
       "    </tr>\n",
       "    <tr>\n",
       "      <th>Electronic</th>\n",
       "      <td>CAFEAA#FAG#D#BA#AGC#GCDFA#GCGFCD#EBFCC#C#FEA#C...</td>\n",
       "    </tr>\n",
       "    <tr>\n",
       "      <th>Hip-Hop</th>\n",
       "      <td>G#A#DFCBAEC#EC#FAFAA#C#C#C#FG#ECDDD#G#C#F#GBBB...</td>\n",
       "    </tr>\n",
       "    <tr>\n",
       "      <th>Jazz</th>\n",
       "      <td>D#A#CECGFAGEA#ABBAG#AD#BGCCD#GEA#DGA#BDFAG#DGF...</td>\n",
       "    </tr>\n",
       "    <tr>\n",
       "      <th>Rap</th>\n",
       "      <td>D#FEC#DBA#C#CG#AA#A#DEFG#C#A#EGCEFGC#AAF#CC#DG...</td>\n",
       "    </tr>\n",
       "    <tr>\n",
       "      <th>Rock</th>\n",
       "      <td>AADED#EBAG#FCCGCF#AAF#CAEDDF#GED#AC#EGG#FAEFDG...</td>\n",
       "    </tr>\n",
       "  </tbody>\n",
       "</table>\n",
       "</div>"
      ],
      "text/plain": [
       "                                                           key\n",
       "music_genre                                                   \n",
       "Alternative  ECG#GGG#F#DCDAADGDC#GEAGAACD#DDF#CGEG#C#C#C#GG...\n",
       "Anime        F#FFEDC#CGFFF#FC#BC#CC#C#G#ACDC#C#GC#ACGF#BADG...\n",
       "Blues        DFFDGAG#DD#D#BA#BBDDFBAGCBCGECCD#DAG#EC#AGECEE...\n",
       "Classical    DA#F#C#GFDC#DAGD#A#FGBEC#A#C#D#F#C#EAGC#EDBFA#...\n",
       "Country      DAG#GC#F#FCCDF#GABD#DGFGG#C#FEBFC#G#AACA#DGGGC...\n",
       "Electronic   CAFEAA#FAG#D#BA#AGC#GCDFA#GCGFCD#EBFCC#C#FEA#C...\n",
       "Hip-Hop      G#A#DFCBAEC#EC#FAFAA#C#C#C#FG#ECDDD#G#C#F#GBBB...\n",
       "Jazz         D#A#CECGFAGEA#ABBAG#AD#BGCCD#GEA#DGA#BDFAG#DGF...\n",
       "Rap          D#FEC#DBA#C#CG#AA#A#DEFG#C#A#EGCEFGC#AAF#CC#DG...\n",
       "Rock         AADED#EBAG#FCCGCF#AAF#CAEDDF#GED#AC#EGG#FAEFDG..."
      ]
     },
     "execution_count": 15,
     "metadata": {},
     "output_type": "execute_result"
    }
   ],
   "source": [
    "df_train.pivot_table(values=['key'], index=['music_genre'],aggfunc='sum')"
   ]
  },
  {
   "cell_type": "markdown",
   "id": "451c862c",
   "metadata": {},
   "source": [
    "### 3 Предобработка"
   ]
  },
  {
   "cell_type": "markdown",
   "id": "cb460996",
   "metadata": {},
   "source": [
    "уберем ненужные нам колонки"
   ]
  },
  {
   "cell_type": "code",
   "execution_count": 16,
   "id": "14505b3f",
   "metadata": {},
   "outputs": [
    {
     "data": {
      "text/plain": [
       "Index(['instance_id', 'track_name', 'acousticness', 'danceability',\n",
       "       'duration_ms', 'energy', 'instrumentalness', 'key', 'liveness',\n",
       "       'loudness', 'mode', 'speechiness', 'tempo', 'obtained_date', 'valence',\n",
       "       'music_genre'],\n",
       "      dtype='object')"
      ]
     },
     "execution_count": 16,
     "metadata": {},
     "output_type": "execute_result"
    }
   ],
   "source": [
    "df_train.columns"
   ]
  },
  {
   "cell_type": "code",
   "execution_count": 17,
   "id": "e5f0bdd9",
   "metadata": {},
   "outputs": [],
   "source": [
    "cols_to_drop = ['duration_ms', 'obtained_date', 'track_name']\n"
   ]
  },
  {
   "cell_type": "markdown",
   "id": "53c643fd",
   "metadata": {},
   "source": [
    "Дата, название и длина песни никак не соотносятся в жанром музыки, который мы предсказываем, данные колонки будут нам только мешать"
   ]
  },
  {
   "cell_type": "code",
   "execution_count": 18,
   "id": "de9b375b",
   "metadata": {},
   "outputs": [],
   "source": [
    "df_train = df_train.drop(cols_to_drop, axis=1)"
   ]
  },
  {
   "cell_type": "code",
   "execution_count": 19,
   "id": "1f5e03a6",
   "metadata": {},
   "outputs": [],
   "source": [
    "df_test = df_test.drop(cols_to_drop, axis=1)"
   ]
  },
  {
   "cell_type": "code",
   "execution_count": 22,
   "id": "2c68530c",
   "metadata": {},
   "outputs": [
    {
     "name": "stdout",
     "output_type": "stream",
     "text": [
      "120.94252240376905\n"
     ]
    }
   ],
   "source": [
    "print(df_train['tempo'].mean())"
   ]
  },
  {
   "cell_type": "code",
   "execution_count": 23,
   "id": "81c50ae1",
   "metadata": {},
   "outputs": [],
   "source": [
    "df_train['tempo'] = df_train['tempo'].fillna(121)"
   ]
  },
  {
   "cell_type": "code",
   "execution_count": 24,
   "id": "5ca28a1e",
   "metadata": {},
   "outputs": [],
   "source": [
    "df_test['tempo'] = df_test['tempo'].fillna(121)"
   ]
  },
  {
   "cell_type": "code",
   "execution_count": 25,
   "id": "d40be955",
   "metadata": {},
   "outputs": [
    {
     "name": "stdout",
     "output_type": "stream",
     "text": [
      "instance_id           0\n",
      "acousticness          0\n",
      "danceability          0\n",
      "energy                0\n",
      "instrumentalness      0\n",
      "key                 735\n",
      "liveness              0\n",
      "loudness              0\n",
      "mode                506\n",
      "speechiness           0\n",
      "tempo                 0\n",
      "valence               0\n",
      "music_genre           0\n",
      "dtype: int64\n"
     ]
    }
   ],
   "source": [
    "print(df_train.isna().sum())"
   ]
  },
  {
   "cell_type": "code",
   "execution_count": 26,
   "id": "b5a4fdbe",
   "metadata": {},
   "outputs": [
    {
     "name": "stdout",
     "output_type": "stream",
     "text": [
      "instance_id           0\n",
      "acousticness          0\n",
      "danceability          0\n",
      "energy                0\n",
      "instrumentalness      0\n",
      "key                 158\n",
      "liveness              0\n",
      "loudness              0\n",
      "mode                149\n",
      "speechiness           0\n",
      "tempo                 0\n",
      "valence               0\n",
      "dtype: int64\n"
     ]
    }
   ],
   "source": [
    "print(df_test.isna().sum())"
   ]
  },
  {
   "cell_type": "code",
   "execution_count": 27,
   "id": "dae03d88",
   "metadata": {},
   "outputs": [],
   "source": [
    "df_train['key'] = df_train['key'].fillna('Missed')\n",
    "df_test['key'] = df_test['key'].fillna('Missed')\n",
    "df_train['mode'] = df_train['mode'].fillna('Missed')\n",
    "df_test['mode'] = df_test['mode'].fillna('Missed')"
   ]
  },
  {
   "cell_type": "code",
   "execution_count": 28,
   "id": "4666da8b",
   "metadata": {},
   "outputs": [
    {
     "name": "stdout",
     "output_type": "stream",
     "text": [
      "instance_id         0\n",
      "acousticness        0\n",
      "danceability        0\n",
      "energy              0\n",
      "instrumentalness    0\n",
      "key                 0\n",
      "liveness            0\n",
      "loudness            0\n",
      "mode                0\n",
      "speechiness         0\n",
      "tempo               0\n",
      "valence             0\n",
      "music_genre         0\n",
      "dtype: int64\n"
     ]
    }
   ],
   "source": [
    "print(df_train.isna().sum())"
   ]
  },
  {
   "cell_type": "code",
   "execution_count": 29,
   "id": "0efa89bf",
   "metadata": {},
   "outputs": [],
   "source": [
    "df_train['key'] = df_train['key'].astype('category')\n",
    "df_train['mode'] = df_train['mode'].astype('category')\n",
    "#df_train['music_genre'] = df_train['music_genre'].astype('category')\n",
    "df_test['key'] = df_train['key'].astype('category')\n",
    "df_test['mode'] = df_train['mode'].astype('category')\n"
   ]
  },
  {
   "cell_type": "code",
   "execution_count": 30,
   "id": "fc695809",
   "metadata": {},
   "outputs": [],
   "source": [
    "numeric = ['acousticness', 'danceability', 'energy', 'instrumentalness', 'liveness', 'loudness', 'speechiness', 'tempo', 'valence']\n",
    "categorical = ['key', 'mode']"
   ]
  },
  {
   "cell_type": "code",
   "execution_count": null,
   "id": "ad05c6fa",
   "metadata": {},
   "outputs": [],
   "source": []
  },
  {
   "cell_type": "code",
   "execution_count": null,
   "id": "0df58bde",
   "metadata": {},
   "outputs": [],
   "source": []
  },
  {
   "cell_type": "code",
   "execution_count": 33,
   "id": "c96f9c94",
   "metadata": {},
   "outputs": [
    {
     "data": {
      "text/html": [
       "<div>\n",
       "<style scoped>\n",
       "    .dataframe tbody tr th:only-of-type {\n",
       "        vertical-align: middle;\n",
       "    }\n",
       "\n",
       "    .dataframe tbody tr th {\n",
       "        vertical-align: top;\n",
       "    }\n",
       "\n",
       "    .dataframe thead th {\n",
       "        text-align: right;\n",
       "    }\n",
       "</style>\n",
       "<table border=\"1\" class=\"dataframe\">\n",
       "  <thead>\n",
       "    <tr style=\"text-align: right;\">\n",
       "      <th></th>\n",
       "      <th>acousticness</th>\n",
       "      <th>danceability</th>\n",
       "      <th>energy</th>\n",
       "      <th>instrumentalness</th>\n",
       "      <th>key</th>\n",
       "      <th>liveness</th>\n",
       "      <th>loudness</th>\n",
       "      <th>mode</th>\n",
       "      <th>speechiness</th>\n",
       "      <th>tempo</th>\n",
       "      <th>valence</th>\n",
       "    </tr>\n",
       "  </thead>\n",
       "  <tbody>\n",
       "    <tr>\n",
       "      <th>0</th>\n",
       "      <td>0.4800</td>\n",
       "      <td>0.670</td>\n",
       "      <td>0.351</td>\n",
       "      <td>0.017600</td>\n",
       "      <td>D</td>\n",
       "      <td>0.115</td>\n",
       "      <td>-16.842</td>\n",
       "      <td>Major</td>\n",
       "      <td>0.0463</td>\n",
       "      <td>101.384</td>\n",
       "      <td>0.450</td>\n",
       "    </tr>\n",
       "    <tr>\n",
       "      <th>1</th>\n",
       "      <td>0.2430</td>\n",
       "      <td>0.452</td>\n",
       "      <td>0.670</td>\n",
       "      <td>0.000051</td>\n",
       "      <td>A</td>\n",
       "      <td>0.108</td>\n",
       "      <td>-8.392</td>\n",
       "      <td>Minor</td>\n",
       "      <td>0.0352</td>\n",
       "      <td>113.071</td>\n",
       "      <td>0.539</td>\n",
       "    </tr>\n",
       "    <tr>\n",
       "      <th>2</th>\n",
       "      <td>0.2280</td>\n",
       "      <td>0.454</td>\n",
       "      <td>0.804</td>\n",
       "      <td>0.000000</td>\n",
       "      <td>E</td>\n",
       "      <td>0.181</td>\n",
       "      <td>-5.225</td>\n",
       "      <td>Minor</td>\n",
       "      <td>0.3710</td>\n",
       "      <td>80.980</td>\n",
       "      <td>0.344</td>\n",
       "    </tr>\n",
       "    <tr>\n",
       "      <th>3</th>\n",
       "      <td>0.0558</td>\n",
       "      <td>0.847</td>\n",
       "      <td>0.873</td>\n",
       "      <td>0.000003</td>\n",
       "      <td>G#</td>\n",
       "      <td>0.325</td>\n",
       "      <td>-4.805</td>\n",
       "      <td>Minor</td>\n",
       "      <td>0.0804</td>\n",
       "      <td>116.007</td>\n",
       "      <td>0.966</td>\n",
       "    </tr>\n",
       "    <tr>\n",
       "      <th>4</th>\n",
       "      <td>0.2270</td>\n",
       "      <td>0.742</td>\n",
       "      <td>0.575</td>\n",
       "      <td>0.000002</td>\n",
       "      <td>C</td>\n",
       "      <td>0.176</td>\n",
       "      <td>-5.550</td>\n",
       "      <td>Major</td>\n",
       "      <td>0.0487</td>\n",
       "      <td>76.494</td>\n",
       "      <td>0.583</td>\n",
       "    </tr>\n",
       "  </tbody>\n",
       "</table>\n",
       "</div>"
      ],
      "text/plain": [
       "   acousticness  danceability  energy  instrumentalness key  liveness  \\\n",
       "0        0.4800         0.670   0.351          0.017600   D     0.115   \n",
       "1        0.2430         0.452   0.670          0.000051   A     0.108   \n",
       "2        0.2280         0.454   0.804          0.000000   E     0.181   \n",
       "3        0.0558         0.847   0.873          0.000003  G#     0.325   \n",
       "4        0.2270         0.742   0.575          0.000002   C     0.176   \n",
       "\n",
       "   loudness   mode  speechiness    tempo  valence  \n",
       "0   -16.842  Major       0.0463  101.384    0.450  \n",
       "1    -8.392  Minor       0.0352  113.071    0.539  \n",
       "2    -5.225  Minor       0.3710   80.980    0.344  \n",
       "3    -4.805  Minor       0.0804  116.007    0.966  \n",
       "4    -5.550  Major       0.0487   76.494    0.583  "
      ]
     },
     "execution_count": 33,
     "metadata": {},
     "output_type": "execute_result"
    }
   ],
   "source": [
    "X = df_train.drop(columns=['music_genre', 'instance_id'])\n",
    "y = df_train.music_genre\n",
    "X.head()"
   ]
  },
  {
   "cell_type": "code",
   "execution_count": 34,
   "id": "c6cbef49",
   "metadata": {},
   "outputs": [],
   "source": [
    "X_train, X_valid, y_train, y_valid = train_test_split(X, y, test_size=0.25, random_state=state)"
   ]
  },
  {
   "cell_type": "code",
   "execution_count": 35,
   "id": "158e5c54",
   "metadata": {},
   "outputs": [
    {
     "data": {
      "text/html": [
       "<div>\n",
       "<style scoped>\n",
       "    .dataframe tbody tr th:only-of-type {\n",
       "        vertical-align: middle;\n",
       "    }\n",
       "\n",
       "    .dataframe tbody tr th {\n",
       "        vertical-align: top;\n",
       "    }\n",
       "\n",
       "    .dataframe thead th {\n",
       "        text-align: right;\n",
       "    }\n",
       "</style>\n",
       "<table border=\"1\" class=\"dataframe\">\n",
       "  <thead>\n",
       "    <tr style=\"text-align: right;\">\n",
       "      <th></th>\n",
       "      <th>acousticness</th>\n",
       "      <th>danceability</th>\n",
       "      <th>energy</th>\n",
       "      <th>instrumentalness</th>\n",
       "      <th>key</th>\n",
       "      <th>liveness</th>\n",
       "      <th>loudness</th>\n",
       "      <th>mode</th>\n",
       "      <th>speechiness</th>\n",
       "      <th>tempo</th>\n",
       "      <th>valence</th>\n",
       "    </tr>\n",
       "  </thead>\n",
       "  <tbody>\n",
       "    <tr>\n",
       "      <th>0</th>\n",
       "      <td>0.301000</td>\n",
       "      <td>0.757</td>\n",
       "      <td>0.679</td>\n",
       "      <td>0.00000</td>\n",
       "      <td>D</td>\n",
       "      <td>0.3030</td>\n",
       "      <td>-7.136</td>\n",
       "      <td>Major</td>\n",
       "      <td>0.3560</td>\n",
       "      <td>90.361</td>\n",
       "      <td>0.895</td>\n",
       "    </tr>\n",
       "    <tr>\n",
       "      <th>1</th>\n",
       "      <td>0.538000</td>\n",
       "      <td>0.256</td>\n",
       "      <td>0.523</td>\n",
       "      <td>0.00832</td>\n",
       "      <td>A</td>\n",
       "      <td>0.0849</td>\n",
       "      <td>-5.175</td>\n",
       "      <td>Minor</td>\n",
       "      <td>0.0294</td>\n",
       "      <td>78.385</td>\n",
       "      <td>0.318</td>\n",
       "    </tr>\n",
       "    <tr>\n",
       "      <th>2</th>\n",
       "      <td>0.005830</td>\n",
       "      <td>0.678</td>\n",
       "      <td>0.770</td>\n",
       "      <td>0.00000</td>\n",
       "      <td>E</td>\n",
       "      <td>0.1090</td>\n",
       "      <td>-4.399</td>\n",
       "      <td>Minor</td>\n",
       "      <td>0.2220</td>\n",
       "      <td>90.000</td>\n",
       "      <td>0.412</td>\n",
       "    </tr>\n",
       "    <tr>\n",
       "      <th>3</th>\n",
       "      <td>0.020300</td>\n",
       "      <td>0.592</td>\n",
       "      <td>0.749</td>\n",
       "      <td>0.00000</td>\n",
       "      <td>G#</td>\n",
       "      <td>0.1220</td>\n",
       "      <td>-4.604</td>\n",
       "      <td>Minor</td>\n",
       "      <td>0.0483</td>\n",
       "      <td>160.046</td>\n",
       "      <td>0.614</td>\n",
       "    </tr>\n",
       "    <tr>\n",
       "      <th>4</th>\n",
       "      <td>0.000335</td>\n",
       "      <td>0.421</td>\n",
       "      <td>0.447</td>\n",
       "      <td>0.01480</td>\n",
       "      <td>C</td>\n",
       "      <td>0.0374</td>\n",
       "      <td>-8.833</td>\n",
       "      <td>Major</td>\n",
       "      <td>0.2020</td>\n",
       "      <td>73.830</td>\n",
       "      <td>0.121</td>\n",
       "    </tr>\n",
       "  </tbody>\n",
       "</table>\n",
       "</div>"
      ],
      "text/plain": [
       "   acousticness  danceability  energy  instrumentalness key  liveness  \\\n",
       "0      0.301000         0.757   0.679           0.00000   D    0.3030   \n",
       "1      0.538000         0.256   0.523           0.00832   A    0.0849   \n",
       "2      0.005830         0.678   0.770           0.00000   E    0.1090   \n",
       "3      0.020300         0.592   0.749           0.00000  G#    0.1220   \n",
       "4      0.000335         0.421   0.447           0.01480   C    0.0374   \n",
       "\n",
       "   loudness   mode  speechiness    tempo  valence  \n",
       "0    -7.136  Major       0.3560   90.361    0.895  \n",
       "1    -5.175  Minor       0.0294   78.385    0.318  \n",
       "2    -4.399  Minor       0.2220   90.000    0.412  \n",
       "3    -4.604  Minor       0.0483  160.046    0.614  \n",
       "4    -8.833  Major       0.2020   73.830    0.121  "
      ]
     },
     "execution_count": 35,
     "metadata": {},
     "output_type": "execute_result"
    }
   ],
   "source": [
    "X_test = df_test.drop(columns='instance_id')\n",
    "X_test.head()"
   ]
  },
  {
   "cell_type": "code",
   "execution_count": 36,
   "id": "5bdc04f4",
   "metadata": {},
   "outputs": [
    {
     "data": {
      "text/plain": [
       "((15295, 23), (5099, 23), (5099, 23))"
      ]
     },
     "execution_count": 36,
     "metadata": {},
     "output_type": "execute_result"
    }
   ],
   "source": [
    "scaler = StandardScaler()\n",
    "#encoder = OneHotEncoder(drop='first', sparse=False)\n",
    "\n",
    "\n",
    "X_train_scaled = scaler.fit_transform(X_train[numeric])\n",
    "X_valid_scaled = scaler.fit_transform(X_valid[numeric])\n",
    "X_test_scaled = scaler.transform(X_test[numeric])\n",
    "\n",
    "X_train_ohe = encoder.fit_transform(X_train[categorical])\n",
    "X_valid_ohe = encoder.transform(X_valid[categorical])\n",
    "X_test_ohe = encoder.transform(X_test[categorical])\n",
    "\n",
    "X_train = np.hstack((X_train_scaled, X_train_ohe))\n",
    "X_valid = np.hstack((X_valid_scaled, X_valid_ohe))\n",
    "X_test = np.hstack((X_test_scaled, X_test_ohe))\n",
    "\n",
    "X_train.shape, X_valid.shape, X_test.shape, "
   ]
  },
  {
   "cell_type": "code",
   "execution_count": 37,
   "id": "d567c57a",
   "metadata": {},
   "outputs": [
    {
     "data": {
      "text/plain": [
       "((15295,), (5099,))"
      ]
     },
     "execution_count": 37,
     "metadata": {},
     "output_type": "execute_result"
    }
   ],
   "source": [
    "y_train.shape, y_valid.shape"
   ]
  },
  {
   "cell_type": "markdown",
   "id": "4d4f78f2",
   "metadata": {},
   "source": [
    "### 5 Создание модели, подбор гиперпараметров"
   ]
  },
  {
   "cell_type": "markdown",
   "id": "3ac494c8",
   "metadata": {},
   "source": [
    "Попробуем разные модели классификации: RandomForestClassifier"
   ]
  },
  {
   "cell_type": "code",
   "execution_count": 42,
   "id": "ee0e07ba",
   "metadata": {},
   "outputs": [
    {
     "data": {
      "text/plain": [
       "<Axes: xlabel='music_genre', ylabel='frequency'>"
      ]
     },
     "execution_count": 42,
     "metadata": {},
     "output_type": "execute_result"
    },
    {
     "data": {
      "image/png": "[encoded data removed]",
      "text/plain": [
       "<Figure size 640x480 with 1 Axes>"
      ]
     },
     "metadata": {},
     "output_type": "display_data"
    }
   ],
   "source": [
    "class_frequency = df_train['music_genre'].value_counts(normalize=True)\n",
    "class_frequency.plot(kind='bar', xlabel = 'music_genre', ylabel = 'frequency')"
   ]
  },
  {
   "cell_type": "code",
   "execution_count": 43,
   "id": "ead7b840",
   "metadata": {},
   "outputs": [
    {
     "name": "stdout",
     "output_type": "stream",
     "text": [
      "Accuracy of the model: 38.32123945871739%\n"
     ]
    }
   ],
   "source": [
    "model = RidgeClassifier(random_state=state)\n",
    "model.fit(X_train, y_train)\n",
    "predicted_valid = model.predict(X_valid)\n",
    "\n",
    "acc = accuracy_score(y_valid, predicted_valid)*100\n",
    "print('Accuracy of the model: {0}%'.format(acc))\n"
   ]
  },
  {
   "cell_type": "code",
   "execution_count": 40,
   "id": "0cf4339c",
   "metadata": {},
   "outputs": [
    {
     "name": "stdout",
     "output_type": "stream",
     "text": [
      "['Electronic' 'Blues' 'Blues' ... 'Alternative' 'Blues' 'Rap']\n",
      "19725           Jazz\n",
      "6296         Country\n",
      "5641         Country\n",
      "6714      Electronic\n",
      "3106     Alternative\n",
      "            ...     \n",
      "2247            Rock\n",
      "11815            Rap\n",
      "10877    Alternative\n",
      "13399          Anime\n",
      "1733         Hip-Hop\n",
      "Name: music_genre, Length: 5099, dtype: object\n"
     ]
    }
   ],
   "source": [
    "print(predicted_valid)\n",
    "print(y_valid)"
   ]
  },
  {
   "cell_type": "code",
   "execution_count": 53,
   "id": "76c53d92",
   "metadata": {},
   "outputs": [
    {
     "name": "stdout",
     "output_type": "stream",
     "text": [
      "(15295,)\n"
     ]
    }
   ],
   "source": [
    "print(y_train.shape)"
   ]
  },
  {
   "cell_type": "code",
   "execution_count": 44,
   "id": "7eb9cf0a",
   "metadata": {},
   "outputs": [],
   "source": [
    "predicted_test = model.predict(X_test)"
   ]
  },
  {
   "cell_type": "markdown",
   "id": "5620bb1a",
   "metadata": {},
   "source": [
    "### XGBOOST"
   ]
  },
  {
   "cell_type": "code",
   "execution_count": 51,
   "id": "9d2d4acf",
   "metadata": {},
   "outputs": [],
   "source": [
    "from xgboost import XGBClassifier\n",
    "le = LabelEncoder()"
   ]
  },
  {
   "cell_type": "code",
   "execution_count": 53,
   "id": "8f8ba1c1",
   "metadata": {},
   "outputs": [
    {
     "ename": "KeyError",
     "evalue": "'music_genre'",
     "output_type": "error",
     "traceback": [
      "\u001b[1;31m---------------------------------------------------------------------------\u001b[0m",
      "\u001b[1;31mKeyError\u001b[0m                                  Traceback (most recent call last)",
      "File \u001b[1;32m~\\anaconda3\\lib\\site-packages\\pandas\\core\\indexes\\base.py:3802\u001b[0m, in \u001b[0;36mIndex.get_loc\u001b[1;34m(self, key, method, tolerance)\u001b[0m\n\u001b[0;32m   3801\u001b[0m \u001b[38;5;28;01mtry\u001b[39;00m:\n\u001b[1;32m-> 3802\u001b[0m     \u001b[38;5;28;01mreturn\u001b[39;00m \u001b[38;5;28;43mself\u001b[39;49m\u001b[38;5;241;43m.\u001b[39;49m\u001b[43m_engine\u001b[49m\u001b[38;5;241;43m.\u001b[39;49m\u001b[43mget_loc\u001b[49m\u001b[43m(\u001b[49m\u001b[43mcasted_key\u001b[49m\u001b[43m)\u001b[49m\n\u001b[0;32m   3803\u001b[0m \u001b[38;5;28;01mexcept\u001b[39;00m \u001b[38;5;167;01mKeyError\u001b[39;00m \u001b[38;5;28;01mas\u001b[39;00m err:\n",
      "File \u001b[1;32m~\\anaconda3\\lib\\site-packages\\pandas\\_libs\\index.pyx:138\u001b[0m, in \u001b[0;36mpandas._libs.index.IndexEngine.get_loc\u001b[1;34m()\u001b[0m\n",
      "File \u001b[1;32m~\\anaconda3\\lib\\site-packages\\pandas\\_libs\\index.pyx:146\u001b[0m, in \u001b[0;36mpandas._libs.index.IndexEngine.get_loc\u001b[1;34m()\u001b[0m\n",
      "File \u001b[1;32mpandas\\_libs\\index_class_helper.pxi:49\u001b[0m, in \u001b[0;36mpandas._libs.index.Int64Engine._check_type\u001b[1;34m()\u001b[0m\n",
      "\u001b[1;31mKeyError\u001b[0m: 'music_genre'",
      "\nThe above exception was the direct cause of the following exception:\n",
      "\u001b[1;31mKeyError\u001b[0m                                  Traceback (most recent call last)",
      "Cell \u001b[1;32mIn[53], line 1\u001b[0m\n\u001b[1;32m----> 1\u001b[0m y_train[\u001b[38;5;124m'\u001b[39m\u001b[38;5;124mmusic_genre\u001b[39m\u001b[38;5;124m'\u001b[39m] \u001b[38;5;241m=\u001b[39m le\u001b[38;5;241m.\u001b[39mfit_transform(\u001b[43my_train\u001b[49m\u001b[43m[\u001b[49m\u001b[38;5;124;43m'\u001b[39;49m\u001b[38;5;124;43mmusic_genre\u001b[39;49m\u001b[38;5;124;43m'\u001b[39;49m\u001b[43m]\u001b[49m)\n",
      "File \u001b[1;32m~\\anaconda3\\lib\\site-packages\\pandas\\core\\series.py:981\u001b[0m, in \u001b[0;36mSeries.__getitem__\u001b[1;34m(self, key)\u001b[0m\n\u001b[0;32m    978\u001b[0m     \u001b[38;5;28;01mreturn\u001b[39;00m \u001b[38;5;28mself\u001b[39m\u001b[38;5;241m.\u001b[39m_values[key]\n\u001b[0;32m    980\u001b[0m \u001b[38;5;28;01melif\u001b[39;00m key_is_scalar:\n\u001b[1;32m--> 981\u001b[0m     \u001b[38;5;28;01mreturn\u001b[39;00m \u001b[38;5;28;43mself\u001b[39;49m\u001b[38;5;241;43m.\u001b[39;49m\u001b[43m_get_value\u001b[49m\u001b[43m(\u001b[49m\u001b[43mkey\u001b[49m\u001b[43m)\u001b[49m\n\u001b[0;32m    983\u001b[0m \u001b[38;5;28;01mif\u001b[39;00m is_hashable(key):\n\u001b[0;32m    984\u001b[0m     \u001b[38;5;66;03m# Otherwise index.get_value will raise InvalidIndexError\u001b[39;00m\n\u001b[0;32m    985\u001b[0m     \u001b[38;5;28;01mtry\u001b[39;00m:\n\u001b[0;32m    986\u001b[0m         \u001b[38;5;66;03m# For labels that don't resolve as scalars like tuples and frozensets\u001b[39;00m\n",
      "File \u001b[1;32m~\\anaconda3\\lib\\site-packages\\pandas\\core\\series.py:1089\u001b[0m, in \u001b[0;36mSeries._get_value\u001b[1;34m(self, label, takeable)\u001b[0m\n\u001b[0;32m   1086\u001b[0m     \u001b[38;5;28;01mreturn\u001b[39;00m \u001b[38;5;28mself\u001b[39m\u001b[38;5;241m.\u001b[39m_values[label]\n\u001b[0;32m   1088\u001b[0m \u001b[38;5;66;03m# Similar to Index.get_value, but we do not fall back to positional\u001b[39;00m\n\u001b[1;32m-> 1089\u001b[0m loc \u001b[38;5;241m=\u001b[39m \u001b[38;5;28;43mself\u001b[39;49m\u001b[38;5;241;43m.\u001b[39;49m\u001b[43mindex\u001b[49m\u001b[38;5;241;43m.\u001b[39;49m\u001b[43mget_loc\u001b[49m\u001b[43m(\u001b[49m\u001b[43mlabel\u001b[49m\u001b[43m)\u001b[49m\n\u001b[0;32m   1090\u001b[0m \u001b[38;5;28;01mreturn\u001b[39;00m \u001b[38;5;28mself\u001b[39m\u001b[38;5;241m.\u001b[39mindex\u001b[38;5;241m.\u001b[39m_get_values_for_loc(\u001b[38;5;28mself\u001b[39m, loc, label)\n",
      "File \u001b[1;32m~\\anaconda3\\lib\\site-packages\\pandas\\core\\indexes\\base.py:3804\u001b[0m, in \u001b[0;36mIndex.get_loc\u001b[1;34m(self, key, method, tolerance)\u001b[0m\n\u001b[0;32m   3802\u001b[0m     \u001b[38;5;28;01mreturn\u001b[39;00m \u001b[38;5;28mself\u001b[39m\u001b[38;5;241m.\u001b[39m_engine\u001b[38;5;241m.\u001b[39mget_loc(casted_key)\n\u001b[0;32m   3803\u001b[0m \u001b[38;5;28;01mexcept\u001b[39;00m \u001b[38;5;167;01mKeyError\u001b[39;00m \u001b[38;5;28;01mas\u001b[39;00m err:\n\u001b[1;32m-> 3804\u001b[0m     \u001b[38;5;28;01mraise\u001b[39;00m \u001b[38;5;167;01mKeyError\u001b[39;00m(key) \u001b[38;5;28;01mfrom\u001b[39;00m \u001b[38;5;21;01merr\u001b[39;00m\n\u001b[0;32m   3805\u001b[0m \u001b[38;5;28;01mexcept\u001b[39;00m \u001b[38;5;167;01mTypeError\u001b[39;00m:\n\u001b[0;32m   3806\u001b[0m     \u001b[38;5;66;03m# If we have a listlike key, _check_indexing_error will raise\u001b[39;00m\n\u001b[0;32m   3807\u001b[0m     \u001b[38;5;66;03m#  InvalidIndexError. Otherwise we fall through and re-raise\u001b[39;00m\n\u001b[0;32m   3808\u001b[0m     \u001b[38;5;66;03m#  the TypeError.\u001b[39;00m\n\u001b[0;32m   3809\u001b[0m     \u001b[38;5;28mself\u001b[39m\u001b[38;5;241m.\u001b[39m_check_indexing_error(key)\n",
      "\u001b[1;31mKeyError\u001b[0m: 'music_genre'"
     ]
    }
   ],
   "source": [
    "y_train['music_genre'] = LabelEncoder().fit_transform(y_train['music_genre'])\n"
   ]
  },
  {
   "cell_type": "code",
   "execution_count": null,
   "id": "98469e31",
   "metadata": {},
   "outputs": [],
   "source": [
    "model= XGBClassifier(n_estimators=101,random_state=42,learning_rate=0.1)\n",
    "model.fit(X_train,y_train)\n",
    "y_hat = model.predict(X_test)"
   ]
  },
  {
   "cell_type": "code",
   "execution_count": null,
   "id": "7a5f4d2e",
   "metadata": {},
   "outputs": [],
   "source": []
  },
  {
   "cell_type": "code",
   "execution_count": null,
   "id": "3d1369cc",
   "metadata": {},
   "outputs": [],
   "source": []
  },
  {
   "cell_type": "code",
   "execution_count": null,
   "id": "4870fd20",
   "metadata": {},
   "outputs": [],
   "source": []
  },
  {
   "cell_type": "code",
   "execution_count": null,
   "id": "3a36ce9d",
   "metadata": {},
   "outputs": [],
   "source": []
  },
  {
   "cell_type": "code",
   "execution_count": null,
   "id": "ec9e4c48",
   "metadata": {},
   "outputs": [],
   "source": []
  },
  {
   "cell_type": "markdown",
   "id": "9a8e2532",
   "metadata": {},
   "source": [
    "### 6 Выгрузка предсказания, загрузка на KAggler"
   ]
  },
  {
   "cell_type": "code",
   "execution_count": 45,
   "id": "92276066",
   "metadata": {},
   "outputs": [
    {
     "data": {
      "text/html": [
       "<div>\n",
       "<style scoped>\n",
       "    .dataframe tbody tr th:only-of-type {\n",
       "        vertical-align: middle;\n",
       "    }\n",
       "\n",
       "    .dataframe tbody tr th {\n",
       "        vertical-align: top;\n",
       "    }\n",
       "\n",
       "    .dataframe thead th {\n",
       "        text-align: right;\n",
       "    }\n",
       "</style>\n",
       "<table border=\"1\" class=\"dataframe\">\n",
       "  <thead>\n",
       "    <tr style=\"text-align: right;\">\n",
       "      <th></th>\n",
       "      <th>instance_id</th>\n",
       "      <th>acousticness</th>\n",
       "      <th>danceability</th>\n",
       "      <th>energy</th>\n",
       "      <th>instrumentalness</th>\n",
       "      <th>key</th>\n",
       "      <th>liveness</th>\n",
       "      <th>loudness</th>\n",
       "      <th>mode</th>\n",
       "      <th>speechiness</th>\n",
       "      <th>tempo</th>\n",
       "      <th>valence</th>\n",
       "      <th>music_genre</th>\n",
       "    </tr>\n",
       "  </thead>\n",
       "  <tbody>\n",
       "    <tr>\n",
       "      <th>0</th>\n",
       "      <td>48564</td>\n",
       "      <td>0.301</td>\n",
       "      <td>0.757</td>\n",
       "      <td>0.679</td>\n",
       "      <td>0.00000</td>\n",
       "      <td>D</td>\n",
       "      <td>0.3030</td>\n",
       "      <td>-7.136</td>\n",
       "      <td>Major</td>\n",
       "      <td>0.3560</td>\n",
       "      <td>90.361</td>\n",
       "      <td>0.895</td>\n",
       "      <td>Rap</td>\n",
       "    </tr>\n",
       "    <tr>\n",
       "      <th>1</th>\n",
       "      <td>72394</td>\n",
       "      <td>0.538</td>\n",
       "      <td>0.256</td>\n",
       "      <td>0.523</td>\n",
       "      <td>0.00832</td>\n",
       "      <td>A</td>\n",
       "      <td>0.0849</td>\n",
       "      <td>-5.175</td>\n",
       "      <td>Minor</td>\n",
       "      <td>0.0294</td>\n",
       "      <td>78.385</td>\n",
       "      <td>0.318</td>\n",
       "      <td>Blues</td>\n",
       "    </tr>\n",
       "  </tbody>\n",
       "</table>\n",
       "</div>"
      ],
      "text/plain": [
       "   instance_id  acousticness  danceability  energy  instrumentalness key  \\\n",
       "0        48564         0.301         0.757   0.679           0.00000   D   \n",
       "1        72394         0.538         0.256   0.523           0.00832   A   \n",
       "\n",
       "   liveness  loudness   mode  speechiness   tempo  valence music_genre  \n",
       "0    0.3030    -7.136  Major       0.3560  90.361    0.895         Rap  \n",
       "1    0.0849    -5.175  Minor       0.0294  78.385    0.318       Blues  "
      ]
     },
     "execution_count": 45,
     "metadata": {},
     "output_type": "execute_result"
    }
   ],
   "source": [
    "df_test['music_genre'] = predicted_test\n",
    "df_test.head(2)\n"
   ]
  },
  {
   "cell_type": "code",
   "execution_count": 47,
   "id": "e67472db",
   "metadata": {},
   "outputs": [
    {
     "data": {
      "text/html": [
       "<div>\n",
       "<style scoped>\n",
       "    .dataframe tbody tr th:only-of-type {\n",
       "        vertical-align: middle;\n",
       "    }\n",
       "\n",
       "    .dataframe tbody tr th {\n",
       "        vertical-align: top;\n",
       "    }\n",
       "\n",
       "    .dataframe thead th {\n",
       "        text-align: right;\n",
       "    }\n",
       "</style>\n",
       "<table border=\"1\" class=\"dataframe\">\n",
       "  <thead>\n",
       "    <tr style=\"text-align: right;\">\n",
       "      <th></th>\n",
       "      <th>instance_id</th>\n",
       "      <th>music_genre</th>\n",
       "    </tr>\n",
       "  </thead>\n",
       "  <tbody>\n",
       "    <tr>\n",
       "      <th>0</th>\n",
       "      <td>48564</td>\n",
       "      <td>Rap</td>\n",
       "    </tr>\n",
       "    <tr>\n",
       "      <th>1</th>\n",
       "      <td>72394</td>\n",
       "      <td>Blues</td>\n",
       "    </tr>\n",
       "    <tr>\n",
       "      <th>2</th>\n",
       "      <td>88081</td>\n",
       "      <td>Rap</td>\n",
       "    </tr>\n",
       "    <tr>\n",
       "      <th>3</th>\n",
       "      <td>78331</td>\n",
       "      <td>Alternative</td>\n",
       "    </tr>\n",
       "    <tr>\n",
       "      <th>4</th>\n",
       "      <td>72636</td>\n",
       "      <td>Rap</td>\n",
       "    </tr>\n",
       "    <tr>\n",
       "      <th>...</th>\n",
       "      <td>...</td>\n",
       "      <td>...</td>\n",
       "    </tr>\n",
       "    <tr>\n",
       "      <th>5094</th>\n",
       "      <td>50532</td>\n",
       "      <td>Blues</td>\n",
       "    </tr>\n",
       "    <tr>\n",
       "      <th>5095</th>\n",
       "      <td>26255</td>\n",
       "      <td>Alternative</td>\n",
       "    </tr>\n",
       "    <tr>\n",
       "      <th>5096</th>\n",
       "      <td>67924</td>\n",
       "      <td>Rap</td>\n",
       "    </tr>\n",
       "    <tr>\n",
       "      <th>5097</th>\n",
       "      <td>79778</td>\n",
       "      <td>Electronic</td>\n",
       "    </tr>\n",
       "    <tr>\n",
       "      <th>5098</th>\n",
       "      <td>47986</td>\n",
       "      <td>Blues</td>\n",
       "    </tr>\n",
       "  </tbody>\n",
       "</table>\n",
       "<p>5099 rows × 2 columns</p>\n",
       "</div>"
      ],
      "text/plain": [
       "      instance_id  music_genre\n",
       "0           48564          Rap\n",
       "1           72394        Blues\n",
       "2           88081          Rap\n",
       "3           78331  Alternative\n",
       "4           72636          Rap\n",
       "...           ...          ...\n",
       "5094        50532        Blues\n",
       "5095        26255  Alternative\n",
       "5096        67924          Rap\n",
       "5097        79778   Electronic\n",
       "5098        47986        Blues\n",
       "\n",
       "[5099 rows x 2 columns]"
      ]
     },
     "execution_count": 47,
     "metadata": {},
     "output_type": "execute_result"
    }
   ],
   "source": [
    "music_test_kaggle = df_test.drop(['acousticness', 'danceability',\n",
    "       'energy', 'instrumentalness', 'key', 'liveness',\n",
    "       'loudness', 'mode', 'speechiness', 'tempo', 'valence'], axis = 1)\n",
    "music_test_kaggle"
   ]
  },
  {
   "cell_type": "code",
   "execution_count": 48,
   "id": "9b22ff21",
   "metadata": {},
   "outputs": [],
   "source": [
    "music_test_kaggle.to_csv('C:\\data/pred_to_kaggle.csv',index=False, index_label=None)"
   ]
  },
  {
   "cell_type": "code",
   "execution_count": null,
   "id": "9804ef07",
   "metadata": {},
   "outputs": [],
   "source": []
  }
 ],
 "metadata": {
  "kernelspec": {
   "display_name": "Python 3 (ipykernel)",
   "language": "python",
   "name": "python3"
  },
  "language_info": {
   "codemirror_mode": {
    "name": "ipython",
    "version": 3
   },
   "file_extension": ".py",
   "mimetype": "text/x-python",
   "name": "python",
   "nbconvert_exporter": "python",
   "pygments_lexer": "ipython3",
   "version": "3.10.9"
  }
 },
 "nbformat": 4,
 "nbformat_minor": 5
}
