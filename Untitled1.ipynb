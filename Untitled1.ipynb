{
 "cells": [
  {
   "cell_type": "code",
   "execution_count": 15,
   "id": "c44f4c49",
   "metadata": {},
   "outputs": [],
   "source": [
    "i = 'arrrr'\n"
   ]
  },
  {
   "cell_type": "code",
   "execution_count": 16,
   "id": "ff168feb",
   "metadata": {},
   "outputs": [],
   "source": [
    "x = set(i)"
   ]
  },
  {
   "cell_type": "code",
   "execution_count": 17,
   "id": "bfea12ab",
   "metadata": {},
   "outputs": [
    {
     "name": "stdout",
     "output_type": "stream",
     "text": [
      "{'a', 'r'}\n"
     ]
    }
   ],
   "source": [
    "print(x)"
   ]
  },
  {
   "cell_type": "code",
   "execution_count": 13,
   "id": "0398ea9a",
   "metadata": {},
   "outputs": [],
   "source": [
    "x = list(x)"
   ]
  },
  {
   "cell_type": "code",
   "execution_count": 14,
   "id": "91431c21",
   "metadata": {},
   "outputs": [
    {
     "name": "stdout",
     "output_type": "stream",
     "text": [
      "[1, 3, 5, 7]\n"
     ]
    }
   ],
   "source": [
    "print(x)"
   ]
  },
  {
   "cell_type": "code",
   "execution_count": 21,
   "id": "ad7712ec",
   "metadata": {},
   "outputs": [],
   "source": [
    "x2 = lambda x, y: x*2 + y"
   ]
  },
  {
   "cell_type": "code",
   "execution_count": 22,
   "id": "56608da6",
   "metadata": {},
   "outputs": [
    {
     "data": {
      "text/plain": [
       "14"
      ]
     },
     "execution_count": 22,
     "metadata": {},
     "output_type": "execute_result"
    }
   ],
   "source": [
    "x2(5, 4)"
   ]
  },
  {
   "cell_type": "code",
   "execution_count": null,
   "id": "7b72fcad",
   "metadata": {},
   "outputs": [],
   "source": []
  }
 ],
 "metadata": {
  "kernelspec": {
   "display_name": "Python 3 (ipykernel)",
   "language": "python",
   "name": "python3"
  },
  "language_info": {
   "codemirror_mode": {
    "name": "ipython",
    "version": 3
   },
   "file_extension": ".py",
   "mimetype": "text/x-python",
   "name": "python",
   "nbconvert_exporter": "python",
   "pygments_lexer": "ipython3",
   "version": "3.10.9"
  }
 },
 "nbformat": 4,
 "nbformat_minor": 5
}
